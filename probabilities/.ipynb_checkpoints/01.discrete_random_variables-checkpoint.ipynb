{
 "cells": [
  {
   "cell_type": "markdown",
   "metadata": {},
   "source": [
    "# Discrete Random Variables"
   ]
  },
  {
   "cell_type": "markdown",
   "metadata": {},
   "source": [
    "In this Series we are going to look at some properties of discrete random variables that will be useful for the future Series on classification metrics. The rigorous mathematical theory behind random variables is clearly indigest, and we are not going to look into it, because we don't need it. Instead, we are going to define a random variable as a simple numerical variable, the value of which is impossible to predict. We won't need more than this definition."
   ]
  },
  {
   "cell_type": "markdown",
   "metadata": {},
   "source": [
    "## 1. Definition\n",
    "> **A random variable $X$ is a numerical variable, the value of which, determined by the result of an experiment, is impossible to predict. The random variable is said to be discrete if the number of its realizations is countable**.\n",
    "\n",
    "Examples:\n",
    "- Throw a dice, the variable $X$ associated to the face obtained is a discrete random variable. $X\\in\\llbracket  pp \\rrbracket$"
   ]
  },
  {
   "cell_type": "code",
   "execution_count": null,
   "metadata": {},
   "outputs": [],
   "source": []
  }
 ],
 "metadata": {
  "kernelspec": {
   "display_name": "Python 3",
   "language": "python",
   "name": "python3"
  },
  "language_info": {
   "codemirror_mode": {
    "name": "ipython",
    "version": 3
   },
   "file_extension": ".py",
   "mimetype": "text/x-python",
   "name": "python",
   "nbconvert_exporter": "python",
   "pygments_lexer": "ipython3",
   "version": "3.6.8"
  }
 },
 "nbformat": 4,
 "nbformat_minor": 2
}
