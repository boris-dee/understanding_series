{
 "cells": [
  {
   "cell_type": "markdown",
   "metadata": {},
   "source": [
    "# Introduction\n",
    "We want to learn a function $\\tau$ that maps a graph $\\mathbf{G}$ and one of its node $n$ to a vector of reals:\n",
    "\n",
    "\\begin{equation}\n",
    " \\tau: (\\mathbf{G},n) \\mapsto \\mathbb{R}^m\n",
    "\\end{equation}\n",
    "\n",
    "There are two broad applications of GNN. They can be classified as _graph-focused_ and _node-focused_. In graph-focused applications, $\\tau$ is independent of $n$ so that $\\tau: \\mathbf{G} \\mapsto \\mathbb{R}^m$. In node-focused application, $\\tau$ depends on the properties of each node $n$. GNNs are suitable for both graph- and node-focused applications.\n",
    "\n",
    "GNNs are based on an information diffusion mechanism. A graph is processed by a set of units, each one corresponding to a node of the graph, which are linked according to the graph connectivity. The units update their states and exchange information until they reach a stable equilibrium. The output of a GNN is then computed locally at each node on the base of the unit state. The diffusion mechanism is constrained in order to ensure that a unique stable equilibrium always exists."
   ]
  },
  {
   "cell_type": "markdown",
   "metadata": {},
   "source": [
    "# Notations\n",
    "$\\mathbf{G}$ is a graph.It is a pair $(\\mathbf{N},\\mathbf{E})$, where $\\mathbf{N}$ is the set of nodes and $\\mathbf{E}$ is the set of edges. The set ${\\rm ne}[n]$ stands for the neighbors of $n$ and the set ${\\rm co}[n]$ stands for the edges that connect to $n$.\n",
    "\n",
    "Nodes and edges may have labels represented by real vectors. The labels attached to node $n$ and edge $(n_1,n_2)$ will be represented by $\\mathbf{l}_n$ and $\\mathbf{l}_{(n_1,n_2)}$, respectively. Labels usually include features of objects related to nodes and features of the relationships between the objects.\n",
    "\n",
    "Each graph $\\mathbf{G}_i$ has a set of nodes $\\mathbf{N}_i$ and a set of edges $\\mathbf{E}_i$. The $j^{\\rm th}$ node in the set $\\mathbf{N}_i$ is referred to as $n_{ij}$ and the desired node-level target associated to $n_{ij}$ is referred to as $\\mathbf{t}_{ij}$."
   ]
  },
  {
   "cell_type": "markdown",
   "metadata": {},
   "source": [
    "### Example\n",
    "![Exemple of graphs](images/graphs.jpg)"
   ]
  },
  {
   "cell_type": "markdown",
   "metadata": {},
   "source": [
    "$\\mathbf{G}_1$ has four nodes and three edges so that \n",
    "\n",
    "- $\\mathbf{N}_1$ is the set of nodes: $\\left\\{ n_{1,1} ; n_{1,2} ; n_{1,3} ; n_{1,4} \\right\\}$\n",
    "\n",
    "\n",
    "- $\\mathbf{E}_1$ is the set of edges: $\\left\\{ (n_{1,1},n_{1,2}) ; (n_{1,2},n_{1,3}) ; (n_{1,3},n_{1,4})\\right\\}$\n",
    "\n",
    "\n",
    "- Each node has a target $\\mathbf{t}\\in\\mathbb{R}^m$: $\\left\\{ \\mathbf{t}_{1,1} ; \\mathbf{t}_{1,2} ; \\mathbf{t}_{1,3} ; \\mathbf{t}_{1,4} \\right\\}$\n",
    "\n",
    "\n",
    "$\\mathbf{G}_2$ has five nodes and five edges so that \n",
    "\n",
    "- $\\mathbf{N}_2 = \\left\\{ n_{2,1} ; n_{2,2} ; n_{2,3} ; n_{2,4} ; n_{2,5} \\right\\}$\n",
    "\n",
    "\n",
    "- $\\mathbf{E}_2 = \\left\\{ (n_{2,1},n_{2,2}) ; (n_{2,2},n_{2,3}) ; (n_{2,3},n_{2,4}) ; (n_{2,3},n_{2,5}) ; (n_{2,4},n_{2,5})\\right\\}$\n",
    "\n",
    "\n",
    "- Each node has a target $\\mathbf{t}\\in\\mathbb{R}^m$: $\\left\\{ \\mathbf{t}_{2,1} ; \\mathbf{t}_{2,2} ; \\mathbf{t}_{2,3} ; \\mathbf{t}_{2,4} ; \\mathbf{t}_{2,5} \\right\\}$"
   ]
  },
  {
   "cell_type": "markdown",
   "metadata": {},
   "source": [
    "The learning set $\\mathcal{L}$ can be seen as all the pairs $(\\mathbf{G},\\mathcal{T})$ where $\\mathbf{G}=(\\mathbf{N}, \\mathbf{E})$ is a graph and $\\mathcal{T}$ is a set of pairs $\\left\\{ (n_i,\\mathbf{t}_i) \\right\\}$."
   ]
  },
  {
   "cell_type": "markdown",
   "metadata": {},
   "source": [
    "# The Model\n",
    "The intuitive idea underlining the GNNs is that nodes in a graph represent objects or concepts, and edges represent their relationships. Each node is naturally defined by its features and the related nodes. We define the _state_ of node $n$ by $\\mathbf{x}_n$. It is a multi-dimensional real vector that is based on the information contained in the neighborhood of $n$. The state $\\mathbf{x}_n$ can be used to produce an _output_ $\\mathbf{o}_n$.\n",
    "\n",
    "The _local transition function_ $f_{\\mathbf{w}}$, parameterized by $\\mathbf{w}$, expresses the dependence of a node $n$ on its neighborhood and the _local output function_ $g_{\\mathbf{w}}$ describes how the output is produced. Since the state $\\mathbf{x}_n$ of node $n$ depends on its own features, as well as those of the neighborhood, it is a function of:\n",
    "- The labels (features) of node $n$: $\\mathbf{l}_n$.\n",
    "- The labels of its connecting edges: $\\mathbf{l}_{{\\rm co}[n]}$.\n",
    "- The state of all its neighbors: $\\mathbf{x}_n$.\n",
    "- The labels (features) of all its neighbors: $\\mathbf{l}_{{\\rm ne}[n]}$.\n",
    "\n",
    "We can therefore write that:\n",
    "$$ \\mathbf{x}_n =  f_{\\mathbf{w}}\\left( \\mathbf{l}_n, \\mathbf{l}_{{\\rm co}[n]}, \\mathbf{x}_{\\rm ne}, \\mathbf{l}_{{\\rm ne}[n]} \\right)$$\n",
    "\n",
    "Then, based on the state and the features of node $n$, we use $g_{\\mathbf{w}}$ to calculate the ouput:\n",
    "$$ \\mathbf{o}_n = g_{\\mathbf{w}}\\left( \\mathbf{x}_n, \\mathbf{l}_n \\right) $$\n",
    "\n",
    "Note 1: Different notions of neighborhood can be adopted. For example, we could remove the labels $\\mathbf{l}_n$ since they are already included in the state $\\mathbf{x}_n$. Same for $\\mathbf{l}_{{\\rm ne}[n]}$, which is included in $\\mathbf{x}_{\\rm ne}$.\n",
    "\n",
    "Note 2: Different transition and output functions can be used for different kind of nodes. If that's the case, an additional parameter $k$ can be used to group different the different kinds.\n",
    "\n",
    "Let $\\mathbf{x}$, $\\mathbf{o}$, $\\mathbf{l}$, $\\mathbf{l_N}$ be the vectors constructed by stacking all the states, all the outputs, all the labels, and all the node labels, respectively. Previous equations can be rewritten in a compact form:\n",
    "$$ \\mathbf{x} = F_{\\mathbf{w}}\\left(\\mathbf{x}, \\mathbf{l} \\right) $$\n",
    "\n",
    "$$ \\mathbf{o} = G_{\\mathbf{w}}\\left( \\mathbf{x}, \\mathbf{l_N} \\right) $$\n",
    "\n",
    "where $F_{\\mathbf{w}}$ and $G_{\\mathbf{w}}$ are the _global transition_ and _output functions_, respectively.\n",
    "\n",
    "It is useful to replace the local transition function with:\n",
    "$$ \\mathbf{x}_n = \\sum\\limits_{u\\in{\\rm ne}[n]} h_{\\mathbf{w}}\\left( \\mathbf{l}_n, \\mathbf{l}_{(n,u)}, \\mathbf{x}_u, \\mathbf{l}_{u} \\right), \\qquad n\\in\\mathbf{N}$$\n",
    "\n",
    "This transition function has been successfully used in recursive neural networks.\n",
    "\n",
    "In order to implement the GNN model, the following items are needed:\n",
    "1. A method to solve the two above equations and find the state of node $n$.\n",
    "2. A learning algorithm to estimate $\\mathbf{w}$ examples from the training set, in order to get $f_{\\mathbf{w}}$ and $g_{\\mathbf{w}}$.\n",
    "3. An implementation of  $f_{\\mathbf{w}}$ and $g_{\\mathbf{w}}$."
   ]
  },
  {
   "cell_type": "markdown",
   "metadata": {},
   "source": [
    "## Computation of $\\mathbf{x}_n$\n"
   ]
  },
  {
   "cell_type": "code",
   "execution_count": null,
   "metadata": {},
   "outputs": [],
   "source": []
  },
  {
   "cell_type": "code",
   "execution_count": null,
   "metadata": {},
   "outputs": [],
   "source": []
  },
  {
   "cell_type": "code",
   "execution_count": null,
   "metadata": {},
   "outputs": [],
   "source": []
  },
  {
   "cell_type": "code",
   "execution_count": null,
   "metadata": {},
   "outputs": [],
   "source": []
  },
  {
   "cell_type": "code",
   "execution_count": null,
   "metadata": {},
   "outputs": [],
   "source": []
  },
  {
   "cell_type": "code",
   "execution_count": null,
   "metadata": {},
   "outputs": [],
   "source": []
  },
  {
   "cell_type": "code",
   "execution_count": null,
   "metadata": {},
   "outputs": [],
   "source": []
  },
  {
   "cell_type": "code",
   "execution_count": null,
   "metadata": {},
   "outputs": [],
   "source": []
  },
  {
   "cell_type": "code",
   "execution_count": null,
   "metadata": {},
   "outputs": [],
   "source": []
  },
  {
   "cell_type": "code",
   "execution_count": null,
   "metadata": {},
   "outputs": [],
   "source": []
  },
  {
   "cell_type": "code",
   "execution_count": null,
   "metadata": {},
   "outputs": [],
   "source": []
  },
  {
   "cell_type": "code",
   "execution_count": null,
   "metadata": {},
   "outputs": [],
   "source": []
  },
  {
   "cell_type": "code",
   "execution_count": null,
   "metadata": {},
   "outputs": [],
   "source": []
  },
  {
   "cell_type": "code",
   "execution_count": null,
   "metadata": {},
   "outputs": [],
   "source": []
  },
  {
   "cell_type": "code",
   "execution_count": null,
   "metadata": {},
   "outputs": [],
   "source": []
  },
  {
   "cell_type": "code",
   "execution_count": null,
   "metadata": {},
   "outputs": [],
   "source": []
  },
  {
   "cell_type": "code",
   "execution_count": null,
   "metadata": {},
   "outputs": [],
   "source": []
  },
  {
   "cell_type": "code",
   "execution_count": null,
   "metadata": {},
   "outputs": [],
   "source": []
  },
  {
   "cell_type": "code",
   "execution_count": null,
   "metadata": {},
   "outputs": [],
   "source": []
  },
  {
   "cell_type": "code",
   "execution_count": null,
   "metadata": {},
   "outputs": [],
   "source": []
  },
  {
   "cell_type": "code",
   "execution_count": null,
   "metadata": {},
   "outputs": [],
   "source": []
  },
  {
   "cell_type": "code",
   "execution_count": null,
   "metadata": {},
   "outputs": [],
   "source": []
  },
  {
   "cell_type": "code",
   "execution_count": null,
   "metadata": {},
   "outputs": [],
   "source": []
  },
  {
   "cell_type": "code",
   "execution_count": null,
   "metadata": {},
   "outputs": [],
   "source": []
  },
  {
   "cell_type": "code",
   "execution_count": null,
   "metadata": {},
   "outputs": [],
   "source": []
  },
  {
   "cell_type": "code",
   "execution_count": null,
   "metadata": {},
   "outputs": [],
   "source": []
  }
 ],
 "metadata": {
  "kernelspec": {
   "display_name": "Python 3",
   "language": "python",
   "name": "python3"
  },
  "language_info": {
   "codemirror_mode": {
    "name": "ipython",
    "version": 3
   },
   "file_extension": ".py",
   "mimetype": "text/x-python",
   "name": "python",
   "nbconvert_exporter": "python",
   "pygments_lexer": "ipython3",
   "version": "3.7.3"
  }
 },
 "nbformat": 4,
 "nbformat_minor": 2
}
