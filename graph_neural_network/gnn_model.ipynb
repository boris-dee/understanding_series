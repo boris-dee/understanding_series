{
 "cells": [
  {
   "cell_type": "markdown",
   "metadata": {},
   "source": [
    "# Introduction\n",
    "We want to learn a function $\\tau$ that maps a graph $\\mathbf{G}$ and one of its node $n$ to a vector of reals:\n",
    "\n",
    "\\begin{equation}\n",
    " \\tau: (\\mathbf{G},n) \\mapsto \\mathbb{R}^m\n",
    "\\end{equation}\n",
    "\n",
    "There are two broad applications of GNN. They can be classified as _graph-focused_ and _node-focused_. In graph-focused applications, $\\tau$ is independent of $n$ so that $\\tau: \\mathbf{G} \\mapsto \\mathbb{R}^m$. In node-focused application, $\\tau$ depends on the properties of each node $n$. GNNs are suitable for both graph- and node-focused applications.\n",
    "\n",
    "GNNs are based on an information diffusion mechanism. A graph is processed by a set of units, each one corresponding to a node of the graph, which are linked according to the graph connectivity. The units update their states and exchange information until they reach a stable equilibrium. The output of a GNN is then computed locally at each node on the base of the unit state. The diffusion mechanism is constrained in order to ensure that a unique stable equilibrium always exists."
   ]
  },
  {
   "cell_type": "markdown",
   "metadata": {},
   "source": [
    "# Notations\n",
    "$\\mathbf{G}$ is a graph.It is a pair $(\\mathbf{N},\\mathbf{E})$, where $\\mathbf{N}$ is the set of nodes and $\\mathbf{E}$ is the set of edges. The set ${\\rm ne}[n]$ stands for the neighbors of $n$ and the set ${\\rm co}[n]$ stands for the edges that connect to $n$.\n",
    "\n",
    "Nodes and edges may have labels represented by real vectors. The labels attached to node $n$ and edge $(n_1,n_2)$ will be represented by $\\mathbf{l}_n$ and $\\mathbf{l}_{(n_1,n_2)}$, respectively. Labels usually include features of objects related to nodes and features of the relationships between the objects.\n",
    "\n",
    "Each graph $\\mathbf{G}_i$ has a set of nodes $\\mathbf{N}_i$ and a set of edges $\\mathbf{E}_i$. The $j^{\\rm th}$ node in the set $\\mathbf{N}_i$ is referred to as $n_{ij}$ and the desired node-level target associated to $n_{ij}$ is referred to as $\\mathbf{t}_{ij}$."
   ]
  },
  {
   "cell_type": "markdown",
   "metadata": {},
   "source": [
    "### Example\n",
    "![Exemple of graphs](graphs.jpg)"
   ]
  },
  {
   "cell_type": "markdown",
   "metadata": {},
   "source": [
    "$\\mathbf{G}_1$ has four nodes and three edges so that \n",
    "\n",
    "- $\\mathbf{N}_1$ is the set of nodes: $\\left\\{ n_{1,1} ; n_{1,2} ; n_{1,3} ; n_{1,4} \\right\\}$\n",
    "\n",
    "\n",
    "- $\\mathbf{E}_1$ is the set of edges: $\\left\\{ (n_{1,1},n_{1,2}) ; (n_{1,2},n_{1,3}) ; (n_{1,3},n_{1,4})\\right\\}$\n",
    "\n",
    "\n",
    "- Each node has a target $\\mathbf{t}\\in\\mathbb{R}^m$: $\\left\\{ \\mathbf{t}_{1,1} ; \\mathbf{t}_{1,2} ; \\mathbf{t}_{1,3} ; \\mathbf{t}_{1,4} \\right\\}$\n",
    "\n",
    "\n",
    "$\\mathbf{G}_2$ has five nodes and five edges so that \n",
    "\n",
    "- $\\mathbf{N}_2 = \\left\\{ n_{2,1} ; n_{2,2} ; n_{2,3} ; n_{2,4} ; n_{2,5} \\right\\}$\n",
    "\n",
    "\n",
    "- $\\mathbf{E}_2 = \\left\\{ (n_{2,1},n_{2,2}) ; (n_{2,2},n_{2,3}) ; (n_{2,3},n_{2,4}) ; (n_{2,3},n_{2,5}) ; (n_{2,4},n_{2,5})\\right\\}$\n",
    "\n",
    "\n",
    "- Each node has a target $\\mathbf{t}\\in\\mathbb{R}^m$: $\\left\\{ \\mathbf{t}_{2,1} ; \\mathbf{t}_{2,2} ; \\mathbf{t}_{2,3} ; \\mathbf{t}_{2,4} ; \\mathbf{t}_{2,5} \\right\\}$"
   ]
  },
  {
   "cell_type": "markdown",
   "metadata": {},
   "source": [
    "The learning set $\\mathcal{L}$ can be seen as all the pairs $(\\mathbf{G},\\mathcal{T})$ where $\\mathbf{G}=(\\mathbf{N}, \\mathbf{E})$ is a graph and $\\mathcal{T}$ is a set of pairs $\\left\\{ (n_i,\\mathbf{t}_i) \\right\\}$."
   ]
  },
  {
   "cell_type": "markdown",
   "metadata": {},
   "source": [
    "# The Model\n",
    "The intuitive idea underlining the GNNs is that nodes in a graph represent objects or concepts, and edges represent their relationships. Each node is naturally defined by its features and the related nodes. We define the _state_ of node $n$ by $\\mathbf{x}_n$. It is a multi-dimensional real vector that is based on the information contained in the neighborhood of $n$. The state $\\mathbf{x}_n$ can be used to produce an _output_ $\\mathbf{o}_n$.\n",
    "\n",
    "The _local transition function_ $f_{\\mathbf{w}}$, parameterized by $\\mathbf{w}$, expresses the dependence of a node $n$ on its neighborhood and the _local output function_ $g_{\\mathbf{w}}$ describes how the output is produced. Since the state $\\mathbf{x}_n$ of node $n$ depends on its own features, as well as those of the neighborhood, it is a function of:\n",
    "- The labels (features) of node $n$: $\\mathbf{l}_n$.\n",
    "- The labels of its connecting edges: $\\mathbf{l}_{{\\rm co}[n]}$.\n",
    "- The state of all its neighbors: $\\mathbf{x}_n$.\n",
    "- The labels (features) of all its neighbors: $\\mathbf{l}_{{\\rm ne}[n]}$.\n",
    "\n",
    "We can therefore write that:\n",
    "$$ \\mathbf{x}_n =  f_{\\mathbf{w}}\\left( \\mathbf{l}_n, \\mathbf{l}_{{\\rm co}[n]}, \\mathbf{x}_n, \\mathbf{l}_{{\\rm ne}[n]} \\right)$$\n",
    "\n",
    "Then, based on the state and the features of node $n$, we use $g_{\\mathbf{w}}$ to calculate the ouput:\n",
    "$$ \\mathbf{o}_n = g_{\\mathbf{w}}\\left( \\mathbf{x}_n, \\mathbf{l}_n \\right) $$\n",
    "\n",
    "Note 1: Different notions of neighborhood can be adopted. For example, we could remove the labels $\\mathbf{l}_n$ since they are already included in the state $\\mathbf{x}_n$. Same for $\\mathbf{l}_{{\\rm ne}[n]}$.\n",
    "\n",
    "Note 2: Different transition and output functions can be used for different kind of nodes. If that's the case, an additional parameter $k$ can be used to group different the different kinds.\n",
    "\n",
    "Let $\\mathbf{x}$, $\\mathbf{o}$, $\\mathbf{l}$, $\\mathbf{l_N}$ be the vectors constructed by stacking all the states, all the outputs, all the labels, and all the node labels, respectively. Previous equations can be rewritten in a compact form:\n",
    "$$ \\mathbf{x} = F_{\\mathbf{w}}\\left(\\mathbf{x}, \\mathbf{l} \\right) $$\n",
    "\n",
    "$$ \\mathbf{o} = G_{\\mathbf{w}}\\left( \\mathbf{x}, \\mathbf{l_N} \\right) $$\n",
    "\n",
    "where $F_{\\mathbf{w}}$ and $G_{\\mathbf{w}}$ are the _global transition_ and _output functions_, respectively.\n",
    "\n",
    "It is useful to replace the local transition function with:\n",
    "$$ \\mathbf{x}_n = \\sum\\limits_{u\\in{\\rm ne}[n]} h_{\\mathbf{w}}\\left( \\mathbf{l}_n, \\mathbf{l}_{(n,u)}, \\mathbf{x}_u, \\mathbf{l}_{u} \\right), \\qquad n\\in\\mathbf{N}$$\n",
    "\n",
    "In order to implement the GNN model, the following items are needed:\n",
    "1. A method to solve the two above equations and find the state of node $n$.\n",
    "2. A learning algorithm to estimate $\\mathbf{w}$ examples from the training set.\n",
    "3. An implementation of the local transition and output functions."
   ]
  },
  {
   "cell_type": "markdown",
   "metadata": {},
   "source": [
    "### Example\n",
    "Let's take the formaldehyde molecule as an example:\n",
    "![formaldehyde](formaldehyde.jpg)\n",
    "\n",
    "Each atom (node) has the following feature: `nuclear_charge`, `hybridization`.\n",
    "\n",
    "Each bond (edge) has the following feature: `bond_order`"
   ]
  },
  {
   "cell_type": "code",
   "execution_count": 1,
   "metadata": {},
   "outputs": [],
   "source": [
    "import pandas as pd\n",
    "import numpy as np\n",
    "\n",
    "from xyz2mol import *\n",
    "from rdkit import Chem\n",
    "from rdkit.Chem.Draw import IPythonConsole\n",
    "\n",
    "raw_struct = pd.read_csv('/home/boris/Dropbox/Data_Science/Kaggle/Scalar_Coupling/data/structures.csv')"
   ]
  },
  {
   "cell_type": "code",
   "execution_count": 33,
   "metadata": {},
   "outputs": [],
   "source": [
    "# Get molecular df from structure file\n",
    "mol_df_struct = raw_struct[raw_struct['molecule_name'] == 'dsgdb9nsd_000012']\n",
    "\n",
    "# Get atom symbols\n",
    "atom_symbols = mol_df_struct['atom'].values\n",
    "\n",
    "# Get atomic positions\n",
    "xyz = mol_df_struct[['x', 'y', 'z']].values\n",
    "\n",
    "# Get atomic numbers\n",
    "atom_num_list = get_atomicNumList(atom_symbols)\n",
    "\n",
    "# Create molecule and adjacency matrix\n",
    "factor = 1.30\n",
    "adj_mat, mol = xyz2mol(atom_num_list, 0, xyz, True, True, factor)"
   ]
  },
  {
   "cell_type": "code",
   "execution_count": 34,
   "metadata": {},
   "outputs": [
    {
     "data": {
      "image/png": "[encoded data removed]",
      "text/plain": [
       "<rdkit.Chem.rdchem.Mol at 0x7fa9f0b65d00>"
      ]
     },
     "execution_count": 34,
     "metadata": {},
     "output_type": "execute_result"
    }
   ],
   "source": [
    "mol"
   ]
  },
  {
   "cell_type": "code",
   "execution_count": 4,
   "metadata": {},
   "outputs": [],
   "source": [
    "def one_hot_encoding(x, set):\n",
    "    one_hot = [int(x == s) for s in set]\n",
    "    if 0:\n",
    "        if sum(one_hot)==0: print('one_hot_encoding() return NULL!', x, set)\n",
    "    return one_hot"
   ]
  },
  {
   "cell_type": "code",
   "execution_count": 5,
   "metadata": {},
   "outputs": [],
   "source": [
    "def get_simple_angle(atom1, atom2, atom3):\n",
    "    \n",
    "    # Get positions of atoms\n",
    "    pos_1 = xyz[atom1]\n",
    "    pos_2 = xyz[atom2]\n",
    "    pos_3 = xyz[atom3]\n",
    "    \n",
    "    # Calculate vector coordinates\n",
    "    vec_1 = pos_1-pos_3\n",
    "    vec_2 = pos_2-pos_3\n",
    "    \n",
    "    # Calculate angle\n",
    "    angle = np.arccos(np.dot(vec_1, vec_2)/(np.linalg.norm(vec_1)*np.linalg.norm(vec_2)))*180/np.pi\n",
    "    \n",
    "    return angle"
   ]
  },
  {
   "cell_type": "code",
   "execution_count": 6,
   "metadata": {},
   "outputs": [],
   "source": [
    "def get_dihedral_angle(atom1, atom2, atom3, atom4):\n",
    "       \n",
    "    # Get positions of atoms\n",
    "    pos1 = xyz[atom1]   \n",
    "    pos2 = xyz[atom2]\n",
    "    pos3 = xyz[atom3]\n",
    "    pos4 = xyz[atom4]\n",
    "    \n",
    "    # Calculate plane vectors\n",
    "    b1 = pos2-pos1\n",
    "    b2 = pos3-pos2\n",
    "    b3 = pos4-pos3\n",
    "    \n",
    "    # Calculate the two normal vectors    \n",
    "    n1 = np.cross(b1,b2)/(np.linalg.norm(np.cross(b1,b2))+1.0e-9)\n",
    "    n2 = np.cross(b2,b3)/(np.linalg.norm(np.cross(b2,b3))+1.0e-9)\n",
    "    \n",
    "    # Calculate angle\n",
    "    u1 = n2\n",
    "    u3 = b2/(np.linalg.norm(b2)+1.0e-9)\n",
    "    u2 = np.cross(u3,u1)\n",
    "    angle = np.arctan2(np.dot(n1,u2),np.dot(n1,u1))*180/np.pi\n",
    "    \n",
    "    return angle"
   ]
  },
  {
   "cell_type": "code",
   "execution_count": 7,
   "metadata": {},
   "outputs": [],
   "source": [
    "def get_distance(atom1,atom2):\n",
    "    return ((xyz[atom1] - xyz[atom2])**2).sum()**0.5"
   ]
  },
  {
   "cell_type": "code",
   "execution_count": 48,
   "metadata": {},
   "outputs": [],
   "source": [
    "def set_edge_features(atom1, atom2, ij, ctype):\n",
    "    btype = None  \n",
    "    \n",
    "    edge_index[ij] = [atom1.GetIdx(),atom2.GetIdx()]\n",
    "    \n",
    "    bond = mol.GetBondBetweenAtoms(atom1.GetIdx(),atom2.GetIdx())\n",
    "    \n",
    "    if bond is not None: \n",
    "        btype = bond.GetBondType()\n",
    "        conjugated_bond[ij] = bond.GetIsConjugated()\n",
    "        \n",
    "    bond_type[ij] = one_hot_encoding(btype,BOND_TYPE)\n",
    "      \n",
    "    distance[ij] = get_distance(atom1.GetIdx(),atom2.GetIdx())\n",
    "    \n",
    "    coupling_type[ij] = one_hot_encoding(ctype,COUPLING_TYPE)"
   ]
  },
  {
   "cell_type": "code",
   "execution_count": 46,
   "metadata": {},
   "outputs": [],
   "source": [
    "SYMBOL=['H', 'C', 'N', 'O', 'F']\n",
    "\n",
    "BOND_TYPE = [\n",
    "    None,\n",
    "    Chem.rdchem.BondType.SINGLE,\n",
    "    Chem.rdchem.BondType.DOUBLE,\n",
    "    Chem.rdchem.BondType.TRIPLE,\n",
    "    Chem.rdchem.BondType.AROMATIC,\n",
    "]\n",
    "HYBRIDIZATION=[\n",
    "    Chem.rdchem.HybridizationType.UNSPECIFIED,\n",
    "    Chem.rdchem.HybridizationType.SP,\n",
    "    Chem.rdchem.HybridizationType.SP2,\n",
    "    Chem.rdchem.HybridizationType.SP3,\n",
    "]\n",
    "CHIRALITY=[\n",
    "    Chem.rdchem.ChiralType.CHI_UNSPECIFIED,\n",
    "    Chem.rdchem.ChiralType.CHI_TETRAHEDRAL_CW,\n",
    "    Chem.rdchem.ChiralType.CHI_TETRAHEDRAL_CCW,\n",
    "]\n",
    "\n",
    "COUPLING_TYPE=[ None, \n",
    "               '1JHC', '1JHN', '1JHO', '1JHF', \n",
    "               '2JHC', '2JHN', '2JHO', '2JHF', '2JHH',\n",
    "               '3JHC', '3JHN', '3JHO', '3JHF', '3JHH']\n",
    "\n",
    "num_atom = mol.GetNumAtoms()\n",
    "symbol   = np.zeros((num_atom,len(SYMBOL)),np.uint8) #category\n",
    "acceptor = np.zeros((num_atom,1),np.uint8)\n",
    "donor    = np.zeros((num_atom,1),np.uint8)\n",
    "aromatic = np.zeros((num_atom,1),np.uint8)\n",
    "hybridization = np.zeros((num_atom,len(HYBRIDIZATION)),np.uint8)\n",
    "num_h  = np.zeros((num_atom,1),np.float32)#real\n",
    "atomic = np.zeros((num_atom,1),np.float32)\n",
    "chirality = np.zeros((num_atom,len(CHIRALITY)),np.uint8)\n",
    "\n",
    "for atom in mol.GetAtoms():\n",
    "    i = atom.GetIdx()\n",
    "    symbol[i]        = one_hot_encoding(atom.GetSymbol(),SYMBOL)\n",
    "    aromatic[i]      = atom.GetIsAromatic()\n",
    "    hybridization[i] = one_hot_encoding(atom.GetHybridization(),HYBRIDIZATION)\n",
    "    num_h[i]  = atom.GetTotalNumHs(includeNeighbors=True)\n",
    "    atomic[i] = atom.GetAtomicNum()\n",
    "    chirality[i] = one_hot_encoding(atom.GetChiralTag(),CHIRALITY)\n",
    "\n",
    "num_edge = num_atom**2\n",
    "edge_index = np.zeros((num_edge,2),np.uint8)\n",
    "distance   = np.zeros((num_edge,1),np.float32)\n",
    "bond_type  = np.zeros((num_edge,len(BOND_TYPE)),np.uint8)\n",
    "conjugated_bond = \n",
    "simple_angles = np.full((num_edge),np.nan)\n",
    "dihedral_angles = np.full((num_edge),np.nan)\n",
    "coupling_type = np.zeros((num_edge,len(COUPLING_TYPE)),np.uint8)\n",
    "\n",
    "ij = 0\n",
    "ctype = None\n",
    "    \n",
    "for atom1 in mol.GetAtoms():\n",
    "    # First nearest neighbors\n",
    "    for atom2 in atom1.GetNeighbors():\n",
    "        if any((edge_index[:]==[atom1.GetIdx(),atom2.GetIdx()]).all(1)): continue\n",
    "            \n",
    "        # Set coupling type\n",
    "        if atom1.GetSymbol() == 'H': ctype = '1JH' + atom2.GetSymbol()\n",
    "            \n",
    "        set_edge_features(atom1, atom2, ij, ctype)\n",
    "        \n",
    "        ij+=1\n",
    "\n",
    "        # Second nearest neighbors\n",
    "        for atom3 in atom2.GetNeighbors():\n",
    "            if atom3.GetIdx() == atom1.GetIdx(): continue\n",
    "            if any((edge_index[:]==[atom1.GetIdx(),atom3.GetIdx()]).all(1)): continue\n",
    "                    \n",
    "            # Set coupling type\n",
    "            if atom1.GetSymbol() == 'H': ctype = '2JH' + atom3.GetSymbol()\n",
    "            \n",
    "            set_edge_features(atom1, atom3, ij, ctype)\n",
    "            simple_angles[ij] = get_simple_angle(atom1.GetIdx(),atom2.GetIdx(),atom3.GetIdx())\n",
    "            \n",
    "            ij+=1\n",
    "            \n",
    "            # Third nearest neighbors\n",
    "            for atom4 in atom3.GetNeighbors():\n",
    "                if (   atom4.GetIdx() == atom1.GetIdx()\n",
    "                    or atom4.GetIdx() == atom2.GetIdx()): continue \n",
    "                if any((edge_index[:]==[atom1.GetIdx(),atom4.GetIdx()]).all(1)): continue\n",
    "                \n",
    "                # Set coupling type\n",
    "                if atom1.GetSymbol() == 'H': ctype = '3JH' + atom4.GetSymbol()\n",
    "                \n",
    "                set_edge_features(atom1, atom4, ij, ctype)\n",
    "                dihedral_angles[ij] = get_dihedral_angle(atom1.GetIdx(), atom2.GetIdx(), \n",
    "                                                         atom3.GetIdx(), atom4.GetIdx())\n",
    "                \n",
    "                ij+=1\n",
    "\n",
    "# Resize all arrays\n",
    "edge_index = edge_index[:ij,:]\n",
    "bond_type = bond_type[:ij,:]\n",
    "distance = distance[:ij,:]\n",
    "simple_angles = simple_angles[:ij]\n",
    "dihedral_angles = dihedral_angles[:ij]\n",
    "coupling_type = coupling_type[:ij,:]\n",
    "\n",
    "# Sanity check\n",
    "from collections import Counter\n",
    "\n",
    "frequencies = Counter(map(tuple,edge_index))\n",
    "\n",
    "for key, val in frequencies.items():\n",
    "    if val > 1: print('Edge ' + str(key) + ' is counted ' + str(val) + ' times.')"
   ]
  },
  {
   "cell_type": "code",
   "execution_count": 47,
   "metadata": {},
   "outputs": [
    {
     "data": {
      "text/plain": [
       "array([[0, 1, 0, 0, 0],\n",
       "       [1, 0, 0, 0, 0],\n",
       "       [1, 0, 0, 0, 0],\n",
       "       [0, 1, 0, 0, 0],\n",
       "       [0, 1, 0, 0, 0],\n",
       "       [0, 1, 0, 0, 0],\n",
       "       [1, 0, 0, 0, 0],\n",
       "       [1, 0, 0, 0, 0],\n",
       "       [0, 0, 1, 0, 0],\n",
       "       [0, 1, 0, 0, 0],\n",
       "       [0, 0, 1, 0, 0],\n",
       "       [1, 0, 0, 0, 0],\n",
       "       [1, 0, 0, 0, 0],\n",
       "       [1, 0, 0, 0, 0],\n",
       "       [1, 0, 0, 0, 0],\n",
       "       [0, 1, 0, 0, 0],\n",
       "       [1, 0, 0, 0, 0],\n",
       "       [1, 0, 0, 0, 0],\n",
       "       [1, 0, 0, 0, 0],\n",
       "       [1, 0, 0, 0, 0],\n",
       "       [0, 1, 0, 0, 0],\n",
       "       [1, 0, 0, 0, 0],\n",
       "       [1, 0, 0, 0, 0],\n",
       "       [1, 0, 0, 0, 0],\n",
       "       [1, 0, 0, 0, 0],\n",
       "       [0, 1, 0, 0, 0],\n",
       "       [1, 0, 0, 0, 0],\n",
       "       [1, 0, 0, 0, 0],\n",
       "       [1, 0, 0, 0, 0],\n",
       "       [1, 0, 0, 0, 0]], dtype=uint8)"
      ]
     },
     "execution_count": 47,
     "metadata": {},
     "output_type": "execute_result"
    }
   ],
   "source": [
    "bond_type"
   ]
  },
  {
   "cell_type": "code",
   "execution_count": null,
   "metadata": {},
   "outputs": [],
   "source": []
  }
 ],
 "metadata": {
  "kernelspec": {
   "display_name": "Python 3",
   "language": "python",
   "name": "python3"
  },
  "language_info": {
   "codemirror_mode": {
    "name": "ipython",
    "version": 3
   },
   "file_extension": ".py",
   "mimetype": "text/x-python",
   "name": "python",
   "nbconvert_exporter": "python",
   "pygments_lexer": "ipython3",
   "version": "3.7.3"
  }
 },
 "nbformat": 4,
 "nbformat_minor": 2
}
