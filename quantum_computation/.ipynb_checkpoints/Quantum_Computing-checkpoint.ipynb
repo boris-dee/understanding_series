{
 "cells": [
  {
   "cell_type": "markdown",
   "metadata": {},
   "source": [
    "# Quantum Computing\n",
    "\n",
    "Quantum computation is the study of the information processing tasks that can be accomplished using quantum mechanical systems.\n",
    "\n",
    "Shannon's *noiseless channel coding theorem* quantifies the physical resources required to store the ouput from an information source.\n",
    "\n",
    "Shannon's *noisy channel coding theorem* quantifies how much information it is possible to reliably transmit through a noisy communications channel."
   ]
  },
  {
   "cell_type": "code",
   "execution_count": null,
   "metadata": {},
   "outputs": [],
   "source": []
  }
 ],
 "metadata": {
  "kernelspec": {
   "display_name": "Python 3",
   "language": "python",
   "name": "python3"
  },
  "language_info": {
   "codemirror_mode": {
    "name": "ipython",
    "version": 3
   },
   "file_extension": ".py",
   "mimetype": "text/x-python",
   "name": "python",
   "nbconvert_exporter": "python",
   "pygments_lexer": "ipython3",
   "version": "3.7.3"
  }
 },
 "nbformat": 4,
 "nbformat_minor": 2
}
