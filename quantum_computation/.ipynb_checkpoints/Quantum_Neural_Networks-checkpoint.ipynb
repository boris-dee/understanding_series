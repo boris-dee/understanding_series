{
 "cells": [
  {
   "cell_type": "markdown",
   "metadata": {},
   "source": [
    "# Cao *et. al*, *Inf. Sci*. 290, 1 (2015):\n",
    "\n",
    "Quantum artifial neural network (QANN) and proof that every continuous mapping of $n$ quantum states to a non-normalized quantum state can be uniformly approximated by a QANN.\n",
    "\n",
    "### 1. Construction of a QANN\n",
    "#### 1.1 Notations\n",
    "\n",
    "$\\mathbb{C}^d$ denotes the $d$-dimensional complex Hilbert space with the inner product:\n",
    "$$ \\langle x | y \\rangle = \\sum_{k=1}^d \\bar{x}_k~y_k$$\n",
    "\n",
    "for all elements $|x\\rangle = \\begin{pmatrix} x_1 \\\\ \\cdots \\\\ x_d \\end{pmatrix} (x_1, x_2,\\cdots,x_d)^T$ and $|y\\rangle = (y_1, y_2,\\cdots,y_d)^T$. $\\bar{x}_k$ denotes the complex conjugate of $x_k$. Therefore:\n",
    "$$ \\langle x | = | x \\rangle^{\\dagger} = (\\bar{x}_1, \\bar{x}_2, \\cdots, \\bar{x}_d) $$"
   ]
  }
 ],
 "metadata": {
  "kernelspec": {
   "display_name": "Python 3",
   "language": "python",
   "name": "python3"
  },
  "language_info": {
   "codemirror_mode": {
    "name": "ipython",
    "version": 3
   },
   "file_extension": ".py",
   "mimetype": "text/x-python",
   "name": "python",
   "nbconvert_exporter": "python",
   "pygments_lexer": "ipython3",
   "version": "3.7.3"
  }
 },
 "nbformat": 4,
 "nbformat_minor": 2
}
