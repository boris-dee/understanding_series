{
 "cells": [
  {
   "cell_type": "markdown",
   "metadata": {},
   "source": [
    "# Quantum Computing - Fundamental Concepts\n",
    "\n",
    "## 1. Introduction and overview\n",
    "\n",
    "### 1.1. Global perspectives\n",
    "\n",
    "Quantum computation is the study of the information processing tasks that can be accomplished using quantum mechanical systems.\n",
    "\n",
    "Shannon's *noiseless channel coding theorem* quantifies the physical resources required to store the ouput from an information source.\n",
    "\n",
    "Shannon's *noisy channel coding theorem* quantifies how much information it is possible to reliably transmit through a noisy communications channel. To achieve reliable transmission, *error-correcting codes* can be used to protect the information being sent."
   ]
  },
  {
   "cell_type": "markdown",
   "metadata": {},
   "source": [
    "### 1.2. Quantum bits\n",
    "qubits are mathematical objects that can form linear combinations of computational basis states (superposition):\n",
    "\n",
    "$$| \\psi \\rangle = \\alpha~| 0 \\rangle + \\beta~| 1 \\rangle \\qquad (\\alpha,\\beta)\\in\\mathbb{C}^2$$\n",
    "\n",
    "When we measure a qubit, we get either the result $0$, with probability $|\\alpha|^2$, or the result $1$, with probability $|\\beta|^2$.\n",
    "\n",
    "Thus, in general, a qubit's state is a unit vector in a 2D complex vector space.\n",
    "\n",
    "A pair of qubits can exist in superposition of four computational basis states:\n",
    "\n",
    "$$| \\psi \\rangle = \\alpha_{00}~| 00 \\rangle + \\alpha_{01}~| 01 \\rangle \n",
    "                 + \\alpha_{10}~| 10 \\rangle + \\alpha_{11}~| 11 \\rangle \\qquad \\alpha_i \\in\\mathbb{C}$$\n",
    "\n",
    "The normalization condition is \n",
    "\n",
    "$$\\sum\\limits_{i\\in\\left\\{0,1\\right\\}^2} |\\alpha_i|^2 = 1$$\n",
    "\n",
    "Measuring the first qubit state gives $0$ with a probability of $|\\alpha_{00}|^2+|\\alpha_{01}|^2$ and $1$ with a probability $|\\alpha_{10}|^2+|\\alpha_{11}|^2$. Similarly, measuring the second qubit state gives $0$ with a probability of $|\\alpha_{00}|^2+|\\alpha_{10}|^2$ and $1$ with a probability $|\\alpha_{01}|^2+|\\alpha_{11}|^2$.\n",
    "\n",
    "If $0$ is measured on the first qubit, the post-measurement state will be:\n",
    "\n",
    "$$| \\psi' \\rangle = \\frac{\\alpha_{00}~| 00 \\rangle + \\alpha_{01}~| 01 \\rangle}{|\\alpha_{00}|^2+|\\alpha_{01}|^2}$$\n",
    "\n",
    "Note how the state is renormalized in order to satisfy the normalization condition.\n",
    "\n",
    "An important two-qubit state is the Bell state, or EPR (Einstein, Podolsky, Rosen) pair:\n",
    "\n",
    "$$| \\psi \\rangle = \\frac{| 00 \\rangle+| 11 \\rangle}{\\sqrt{2}}$$\n",
    "\n",
    "In the Bell state, the measurement outcomes are correlated. Indeed, there's a probability of $0.5$ to measure the first qubit as $0$, leaving the post-measurement as $|00\\rangle$, and a probability of $0.5$ to measure it as $1$, leaving the post-measurement as $|11\\rangle$. Therefore, the measurement of the second qubit always give the same result as the measurement of the first qubit.\n",
    "\n",
    "More generally, a system of $n$ qubits has $2^n$ computational states of the form $| x_1~x_2~\\cdots~x_n \\rangle =$. For $n=500$, the number of computational states is greater than the estimated number of atoms in the universe. Trying to store all these complex numbers would not be possible on any conceivable classical computer. How can we take advantage of this quantum computational power?"
   ]
  },
  {
   "cell_type": "markdown",
   "metadata": {},
   "source": [
    "### 1.3. Quantum computation\n",
    "Quantum computation describes the changes that occur to a quantum state. Classical computers circuits consist of wires and logic gates. The wire carry information around the circuit, while the logic gates perform manipulations on the information, converting it from one form to another.\n",
    "\n",
    "#### 1.3.1. Single qubit gates\n",
    "Example of the `NOT` gate, whose truth table is $1\\rightarrow 0$ and $0 \\rightarrow 1$. The quantum `NOT` gate acts linearly, so that:\n",
    "\n",
    "$${\\rm NOT}\\left( \\alpha~| 0 \\rangle + \\beta~| 1 \\rangle \\right) =  \\alpha~| 1 \\rangle + \\beta~| 0 \\rangle$$\n",
    "\n",
    "This linear behavior is a general property of quantum mechanics. Taking advantage of that, we can represent gates as matrices. The `NOT` gate is as follows:\n",
    "\n",
    "$$X \\equiv \\begin{bmatrix} 0 & 1 \\\\ 1 & 0 \\end{bmatrix}$$\n",
    "\n",
    "If the quantum state is written as a vector:\n",
    "\n",
    "$$\\begin{bmatrix} \\alpha \\\\ \\beta \\end{bmatrix}$$\n",
    "\n",
    "Then the corresponding output of the `NOT` gate is:\n",
    "\n",
    "$$X \\begin{bmatrix} \\alpha \\\\ \\beta \\end{bmatrix} = \\begin{bmatrix} \\beta \\\\ \\alpha \\end{bmatrix}$$\n",
    "\n",
    "So quantum gates on a single qubit can be described by $2\\times2$ matrices. The matrix equivalence for the normalization condition is that the matrix $U$ describing the single qubit gate be unitary, that is:\n",
    "\n",
    "$$ U^{\\dagger} U = 1$$\n",
    "\n",
    "where $U^{\\dagger}$ is the adjoint of $U$, that is, the complex conjugate of the transpose of $U$. This unitary constraint is the only constraint on quantum gates. This is in contrast to the classical case, where the only single bit non-trivial gate is `NOT` gate.\n",
    "\n",
    "There are many non-trivial single qubit gates. Two important are the $Z$ gate:\n",
    "\n",
    "$$ Z \\equiv \\begin{bmatrix} 1 & 0 \\\\ 0 & -1 \\end{bmatrix}$$\n",
    "\n",
    "which leaves $|0\\rangle$ unchanged and flips the sign of $|1\\rangle$ to give $|-1\\rangle$, and the Hadamard gate,\n",
    "\n",
    "$$ H \\equiv \\frac{1}{\\sqrt{2}} \\begin{bmatrix} 1 & 1 \\\\ 1 & -1 \\end{bmatrix}$$\n",
    "\n",
    "The Hadamard gate turns a $|0\\rangle$ into $\\left(|0\\rangle+|1\\rangle\\right)/\\sqrt{2}$ and $|1\\rangle$ into $\\left(|0\\rangle-|1\\rangle\\right)/\\sqrt{2}$.\n",
    "\n",
    "Seen on the Bloch sphere, the Hadamard gate performs a $90^{\\circ}$ rotation of the sphere around the $y$ axis followed by a $180^{\\circ}$ rotation around the $x$ axis. It creates a superposition state from a single qubit state."
   ]
  },
  {
   "cell_type": "markdown",
   "metadata": {},
   "source": [
    "#### 1.3.2. Multiple qubit gates\n",
    "The prototypical multi-qubit quantum logic gate is the controlled-`NOT` or `CNOT` gate. It has two input qubits, known as the control qubit and the target qubit, respectively. The action of the gate is as follows: if the control qubit is set to $0$, then the target qubit is left alone, otherwise the target qubit is flipped:\n",
    "$$|00\\rangle\\rightarrow|00\\rangle \\qquad \n",
    "  |01\\rangle\\rightarrow|01\\rangle \\qquad\n",
    "  |10\\rangle\\rightarrow|11\\rangle \\qquad\n",
    "  |11\\rangle\\rightarrow|10\\rangle$$\n",
    "  \n",
    "  \n",
    "The action of the `CNOT` gate can be summarized as $|A, B\\rangle\\rightarrow|A, A\\bigoplus B\\rangle$, where $\\bigoplus$ is the addition modulo two. The matrix representation is:\n",
    "\n",
    "$$ U_{CN} = \\begin{bmatrix} 1 & 0 & 0 & 0 \\\\\n",
    "                            0 & 1 & 0 & 0 \\\\\n",
    "                            0 & 0 & 0 & 1 \\\\\n",
    "                            0 & 0 & 1 & 0 \\end{bmatrix}$$ "
   ]
  },
  {
   "cell_type": "code",
   "execution_count": null,
   "metadata": {},
   "outputs": [],
   "source": []
  },
  {
   "cell_type": "code",
   "execution_count": null,
   "metadata": {},
   "outputs": [],
   "source": []
  },
  {
   "cell_type": "code",
   "execution_count": null,
   "metadata": {},
   "outputs": [],
   "source": []
  },
  {
   "cell_type": "code",
   "execution_count": null,
   "metadata": {},
   "outputs": [],
   "source": []
  },
  {
   "cell_type": "code",
   "execution_count": null,
   "metadata": {},
   "outputs": [],
   "source": []
  },
  {
   "cell_type": "code",
   "execution_count": null,
   "metadata": {},
   "outputs": [],
   "source": []
  },
  {
   "cell_type": "code",
   "execution_count": null,
   "metadata": {},
   "outputs": [],
   "source": []
  },
  {
   "cell_type": "code",
   "execution_count": null,
   "metadata": {},
   "outputs": [],
   "source": []
  },
  {
   "cell_type": "code",
   "execution_count": null,
   "metadata": {},
   "outputs": [],
   "source": []
  },
  {
   "cell_type": "code",
   "execution_count": null,
   "metadata": {},
   "outputs": [],
   "source": []
  },
  {
   "cell_type": "markdown",
   "metadata": {},
   "source": [
    "\n",
    "\n",
    "\n",
    "\n"
   ]
  },
  {
   "cell_type": "code",
   "execution_count": null,
   "metadata": {},
   "outputs": [],
   "source": []
  }
 ],
 "metadata": {
  "kernelspec": {
   "display_name": "Python 3",
   "language": "python",
   "name": "python3"
  },
  "language_info": {
   "codemirror_mode": {
    "name": "ipython",
    "version": 3
   },
   "file_extension": ".py",
   "mimetype": "text/x-python",
   "name": "python",
   "nbconvert_exporter": "python",
   "pygments_lexer": "ipython3",
   "version": "3.7.3"
  }
 },
 "nbformat": 4,
 "nbformat_minor": 2
}
