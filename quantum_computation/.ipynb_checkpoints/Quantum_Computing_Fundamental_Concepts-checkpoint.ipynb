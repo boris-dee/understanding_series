{
 "cells": [
  {
   "cell_type": "markdown",
   "metadata": {},
   "source": [
    "# Quantum Computing - Fundamental Concepts\n",
    "\n",
    "## 1. Introduction and overview\n",
    "\n",
    "### 1.1. Global perspectives\n",
    "\n",
    "Quantum computation is the study of the information processing tasks that can be accomplished using quantum mechanical systems.\n",
    "\n",
    "Shannon's *noiseless channel coding theorem* quantifies the physical resources required to store the ouput from an information source.\n",
    "\n",
    "Shannon's *noisy channel coding theorem* quantifies how much information it is possible to reliably transmit through a noisy communications channel. To achieve reliable transmission, *error-correcting codes* can be used to protect the information being sent."
   ]
  },
  {
   "cell_type": "markdown",
   "metadata": {},
   "source": [
    "### 1.2. Quantum bits\n",
    "qubits are mathematical objects that can form linear combinations of computational basis states (superposition):\n",
    "\n",
    "$$| \\psi \\rangle = \\alpha~| 0 \\rangle + \\beta~| 1 \\rangle \\qquad (\\alpha,\\beta)\\in\\mathbb{C}^2$$\n",
    "\n",
    "When we measure a qubit, we get either the result $0$, with probability $|\\alpha|^2$, or the result $1$, with probability $|\\beta|^2$.\n",
    "\n",
    "Thus, in general, a qubit's state is a unit vector in a 2D complex vector space.\n",
    "\n",
    "A pair of qubits can exist in superposition of four computational basis states:\n",
    "\n",
    "$$| \\psi \\rangle = \\alpha_{00}~| 00 \\rangle + \\alpha_{01}~| 01 \\rangle \n",
    "                 + \\alpha_{10}~| 10 \\rangle + \\alpha_{11}~| 11 \\rangle \\qquad \\alpha_i \\in\\mathbb{C}$$\n",
    "\n",
    "The normalization condition is \n",
    "\n",
    "$$\\sum\\limits_{i\\in\\left\\{0,1\\right\\}^2} |\\alpha_i|^2 = 1$$\n",
    "\n",
    "Measuring the first qubit state gives $0$ with a probability of $|\\alpha_{00}|^2+|\\alpha_{01}|^2$ and $1$ with a probability $|\\alpha_{10}|^2+|\\alpha_{11}|^2$. Similarly, measuring the second qubit state gives $0$ with a probability of $|\\alpha_{00}|^2+|\\alpha_{10}|^2$ and $1$ with a probability $|\\alpha_{01}|^2+|\\alpha_{11}|^2$.\n",
    "\n",
    "If $0$ is measured on the first qubit, the post-measurement state will be:\n",
    "\n",
    "$$| \\psi' \\rangle = \\frac{\\alpha_{00}~| 00 \\rangle + \\alpha_{01}~| 01 \\rangle}{|\\alpha_{00}|^2+|\\alpha_{01}|^2}$$\n",
    "\n",
    "Note how the state is renormalized in order to satisfy the normalization condition.\n",
    "\n",
    "An important two-qubit state is the Bell state, or EPR (Einstein, Podolsky, Rosen) pair:\n",
    "\n",
    "$$| \\psi \\rangle = \\frac{| 00 \\rangle+| 11 \\rangle}{\\sqrt{2}}$$\n",
    "\n",
    "In the Bell state, the measurement outcomes are correlated. Indeed, there's a probability of $0.5$ to measure the first qubit as $0$, leaving the post-measurement as $|00\\rangle$, and a probability of $0.5$ to measure it as $1$, leaving the post-measurement as $|11\\rangle$. Therefore, the measurement of the second qubit always give the same result as the measurement of the first qubit.\n",
    "\n",
    "More generally, a system of $n$ qubits has $2^n$ computational states of the form $| x_1~x_2~\\cdots~x_n \\rangle =$. For $n=500$, the number of computational states is greater than the estimated number of atoms in the universe. Trying to store all these complex numbers would not be possible on any conceivable classical computer. How can we take advantage of this quantum computational power?"
   ]
  },
  {
   "cell_type": "markdown",
   "metadata": {},
   "source": [
    "### 1.3. Quantum computation\n",
    "Quantum computation describes the changes that occur to a quantum state. Classical computers circuits consist of wires and logic gates. The wire carry information around the circuit, while the logic gates perform manipulations on the information, converting it from one form to another.\n",
    "\n",
    "#### 1.3.1. Single qubit gates\n",
    "Example of the `NOT` gate, whose truth table is $1\\rightarrow 0$ and $0 \\rightarrow 1$. The quantum `NOT` gate acts linearly, so that:\n",
    "\n",
    "$${\\rm NOT}\\left( \\alpha~| 0 \\rangle + \\beta~| 1 \\rangle \\right) =  \\alpha~| 1 \\rangle + \\beta~| 0 \\rangle$$\n",
    "\n",
    "This linear behavior is a general property of quantum mechanics. Taking advantage of that, we can represent gates as matrices. The `NOT` gate is as follows:\n",
    "\n",
    "$$X \\equiv \\begin{bmatrix} 0 & 1 \\\\ 1 & 0 \\end{bmatrix}$$\n",
    "\n",
    "If the quantum state is written as a vector:\n",
    "\n",
    "$$\\begin{bmatrix} \\alpha \\\\ \\beta \\end{bmatrix}$$\n",
    "\n",
    "Then the corresponding output of the `NOT` gate is:\n",
    "\n",
    "$$X \\begin{bmatrix} \\alpha \\\\ \\beta \\end{bmatrix} = \\begin{bmatrix} \\beta \\\\ \\alpha \\end{bmatrix}$$\n",
    "\n",
    "So quantum gates on a single qubit can be described by $2\\times2$ matrices. The matrix equivalence for the normalization condition is that the matrix $U$ describing the single qubit gate be unitary, that is:\n",
    "\n",
    "$$ U^{\\dagger} U = 1$$\n",
    "\n",
    "where $U^{\\dagger}$ is the adjoint of $U$, that is, the complex conjugate of the transpose of $U$. This unitary constraint is the only constraint on quantum gates. This is in contrast to the classical case, where the only single bit non-trivial gate is `NOT` gate.\n",
    "\n",
    "There are many non-trivial single qubit gates. Two important are the $Z$ gate:\n",
    "\n",
    "$$ Z \\equiv \\begin{bmatrix} 1 & 0 \\\\ 0 & -1 \\end{bmatrix}$$\n",
    "\n",
    "which leaves $|0\\rangle$ unchanged and flips the sign of $|1\\rangle$ to give $|-1\\rangle$, and the Hadamard gate,\n",
    "\n",
    "$$ H \\equiv \\frac{1}{\\sqrt{2}} \\begin{bmatrix} 1 & 1 \\\\ 1 & -1 \\end{bmatrix}$$\n",
    "\n",
    "The Hadamard gate turns a $|0\\rangle$ into $\\left(|0\\rangle+|1\\rangle\\right)/\\sqrt{2}$ and $|1\\rangle$ into $\\left(|0\\rangle-|1\\rangle\\right)/\\sqrt{2}$.\n",
    "\n",
    "Seen on the Bloch sphere, the Hadamard gate performs a $90^{\\circ}$ rotation of the sphere around the $y$ axis followed by a $180^{\\circ}$ rotation around the $x$ axis. It creates a superposition state from a single qubit state."
   ]
  },
  {
   "cell_type": "markdown",
   "metadata": {},
   "source": [
    "#### 1.3.2. Multiple qubit gates\n",
    "The prototypical multi-qubit quantum logic gate is the controlled-`NOT` or `CNOT` gate. It has two input qubits, known as the control qubit and the target qubit, respectively. The action of the gate is as follows: if the control qubit is set to $0$, then the target qubit is left alone, otherwise the target qubit is flipped:\n",
    "$$|00\\rangle\\rightarrow|00\\rangle \\qquad \n",
    "  |01\\rangle\\rightarrow|01\\rangle \\qquad\n",
    "  |10\\rangle\\rightarrow|11\\rangle \\qquad\n",
    "  |11\\rangle\\rightarrow|10\\rangle$$\n",
    "  \n",
    "  \n",
    "The action of the `CNOT` gate can be summarized as $|A, B\\rangle\\rightarrow|A, A\\oplus B\\rangle$, where $\\oplus$ is the addition modulo two. The matrix representation is:\n",
    "\n",
    "$$ U_{CN} = \\begin{bmatrix} 1 & 0 & 0 & 0 \\\\\n",
    "                            0 & 1 & 0 & 0 \\\\\n",
    "                            0 & 0 & 0 & 1 \\\\\n",
    "                            0 & 0 & 1 & 0 \\end{bmatrix}$$ \n",
    "                            \n",
    "Contrary to classical gates, quantum gates are always inversible, since the inverse of a unitary matrix is also a unitary matrix. Therefore, a quantum gate can always be inverted by another quantum gate.\n",
    "\n",
    "**Universality result**: Any multiple qubit logic gate can be composed from `CNOT` and single qubit gates."
   ]
  },
  {
   "cell_type": "markdown",
   "metadata": {},
   "source": [
    "#### 1.3.4. Example: Bell states\n",
    "Let's consider a circuit in which a Hadamard gate is applied on the first qubit, followed by a `CNOT` gate on the second one."
   ]
  },
  {
   "cell_type": "code",
   "execution_count": 51,
   "metadata": {},
   "outputs": [],
   "source": [
    "from qiskit import QuantumCircuit, Aer, execute\n",
    "from qiskit.visualization import plot_histogram\n",
    "\n",
    "# Create a Quantum Circuit acting on the q register\n",
    "circuit = QuantumCircuit(2,2)\n",
    "\n",
    "def quantum_experiment(circuit, shots):\n",
    "    # Hadamard gate on the first qubit\n",
    "    circuit.h(0)\n",
    "\n",
    "    # CNOT gate on the second qubit, controlled by the first one\n",
    "    circuit.cx(1,0)\n",
    "\n",
    "    # Visualize circuit\n",
    "    display(circuit.draw())\n",
    "    \n",
    "    # Measure qubit 0 and 1\n",
    "    circuit.measure([0,1],[0,1])\n",
    "\n",
    "    # Run the quantum circuit on a statevector simulator backend\n",
    "    simulator = Aer.get_backend('qasm_simulator')\n",
    "\n",
    "    # Create a Quantum Program for execution \n",
    "    job = execute(circuit, simulator, shots)\n",
    "\n",
    "    # Get results of the experiment\n",
    "    result = job.result()\n",
    "\n",
    "    # Get counts\n",
    "    counts = result.get_counts(circuit)\n",
    "    print(\"\\nTotal count for 00 and 11 are:\",counts)\n",
    "\n",
    "    # Print counts\n",
    "    display(plot_histogram(counts))    "
   ]
  },
  {
   "cell_type": "markdown",
   "metadata": {},
   "source": [
    "1. Case input is $|00\\rangle$: the Hadamard gate output is\n",
    "$$ \\frac{1}{\\sqrt{2}} \\left(|00\\rangle + |10\\rangle \\right) $$\n",
    "and the `CNOT` gate output is\n",
    "$$ \\frac{1}{\\sqrt{2}} \\left(|00\\rangle + |11\\rangle \\right) = \\beta_{00}$$"
   ]
  },
  {
   "cell_type": "code",
   "execution_count": 52,
   "metadata": {},
   "outputs": [
    {
     "data": {
      "image/png": "[encoded data removed]",
      "text/plain": [
       "<Figure size 301x258.86 with 1 Axes>"
      ]
     },
     "metadata": {},
     "output_type": "display_data"
    },
    {
     "name": "stdout",
     "output_type": "stream",
     "text": [
      "\n",
      "Total count for 00 and 11 are: {'01': 5046, '00': 4954}\n"
     ]
    },
    {
     "data": {
      "image/png": "[encoded data removed]",
      "text/plain": [
       "<Figure size 504x360 with 1 Axes>"
      ]
     },
     "metadata": {},
     "output_type": "display_data"
    }
   ],
   "source": [
    "quantum_experiment(circuit)"
   ]
  },
  {
   "cell_type": "markdown",
   "metadata": {},
   "source": [
    "Therefore, we have an equal $50\\%$ chance of measuring $|00\\rangle$ or $|11\\rangle$ :"
   ]
  },
  {
   "cell_type": "code",
   "execution_count": 37,
   "metadata": {},
   "outputs": [
    {
     "name": "stdout",
     "output_type": "stream",
     "text": [
      "\n",
      "Total count for 00 and 11 are: {'01': 4972, '00': 5028}\n"
     ]
    },
    {
     "data": {
      "image/png": "[encoded data removed]",
      "text/plain": [
       "<Figure size 504x360 with 1 Axes>"
      ]
     },
     "execution_count": 37,
     "metadata": {},
     "output_type": "execute_result"
    }
   ],
   "source": []
  },
  {
   "cell_type": "code",
   "execution_count": null,
   "metadata": {},
   "outputs": [],
   "source": []
  },
  {
   "cell_type": "code",
   "execution_count": null,
   "metadata": {},
   "outputs": [],
   "source": []
  },
  {
   "cell_type": "markdown",
   "metadata": {},
   "source": [
    "2. Case input is $|10\\rangle$: the Hadamard gate output is\n",
    "$$ \\frac{1}{\\sqrt{2}} \\left(|00\\rangle - |10\\rangle \\right) $$\n",
    "and the `CNOT` gate output is\n",
    "$$ \\frac{1}{\\sqrt{2}} \\left(|00\\rangle - |11\\rangle \\right) = \\beta_{10}$$\n",
    "\n",
    "3. Case input is $|01\\rangle$: the Hadamard gate output is\n",
    "$$ \\frac{1}{\\sqrt{2}} \\left(|01\\rangle + |11\\rangle \\right) $$\n",
    "and the `CNOT` gate output is\n",
    "$$ \\frac{1}{\\sqrt{2}} \\left(|01\\rangle + |10\\rangle \\right) = \\beta_{01}$$\n",
    "\n",
    "4. Case input is $|11\\rangle$: the Hadamard gate output is\n",
    "$$ \\frac{1}{\\sqrt{2}} \\left(|01\\rangle - |11\\rangle \\right) $$\n",
    "and the `CNOT` gate output is\n",
    "$$ \\frac{1}{\\sqrt{2}} \\left(|01\\rangle - |10\\rangle \\right) = \\beta_{11}$$\n",
    "\n",
    "The $\\beta_{xy}$ are known as the Bell states, or sometimes the EPR states or EPR pairs. The general form of these states is given by:\n",
    "\n",
    "$$ \\beta_{xy} = \\frac{|0,y\\rangle+(-1)^x|1,\\bar{y}\\rangle}{\\sqrt{2}} $$"
   ]
  },
  {
   "cell_type": "code",
   "execution_count": null,
   "metadata": {},
   "outputs": [],
   "source": []
  },
  {
   "cell_type": "code",
   "execution_count": null,
   "metadata": {},
   "outputs": [],
   "source": []
  },
  {
   "cell_type": "code",
   "execution_count": null,
   "metadata": {},
   "outputs": [],
   "source": []
  },
  {
   "cell_type": "code",
   "execution_count": null,
   "metadata": {},
   "outputs": [],
   "source": []
  },
  {
   "cell_type": "code",
   "execution_count": null,
   "metadata": {},
   "outputs": [],
   "source": []
  },
  {
   "cell_type": "markdown",
   "metadata": {},
   "source": [
    "#### 1.3.5. Quantum teleportation\n",
    "Quantum teleportation is a technique to move quantum states around, even in the absence of a quantum communication channel. To teleport a quantum state, we first need an EPR pair, for instance $|\\beta_{00}\\rangle$ :\n",
    "$$ |\\beta_{00}\\rangle = \\frac{|00\\rangle + |11\\rangle}{\\sqrt{2}}$$\n",
    "\n",
    "This EPR is then split, with the first and second qubit at positions $A$ and $B$, respectively. The second step is to take the quantum state that we want to teleport $\\psi = \\alpha|0\\rangle+\\beta|1\\rangle$. Our system is therefore a 3-qubit system $\\psi_0$ such that:\n",
    "$$ |\\psi_0\\rangle = |\\psi\\rangle|\\beta_{00}\\rangle = \\frac{1}{\\sqrt{2}}\\left[ \\alpha|0\\rangle \\left( |00\\rangle + |11\\rangle \\right) + \\beta|1\\rangle \\left( |00\\rangle + |11\\rangle \\right) \\right] = \\frac{1}{\\sqrt{2}}\\left[ \\alpha \\left( |000\\rangle + |011\\rangle \\right) + \\beta \\left( |100\\rangle + |111\\rangle \\right)\\right] $$\n",
    "\n",
    "The we apply a `CNOT` gate on the EPR qubit at $A$ controlled by $|\\psi\\rangle$. The result is that:\n",
    "- If the first qubit is $|0\\rangle$, the second qubit remains unchanged.\n",
    "- If the first qubit is $|1\\rangle$, the second qubit is equal to the addition of the first and second qubit, modulo two.\n",
    "- The third qubit, which is the second qubit of the EPR pair, remains unchanged since it's not involved in the `CNOT` gate.\n",
    "\n",
    "Therefore the resulting $|\\psi_1\\rangle$ state is:\n",
    "$$ |\\psi_1\\rangle = \\frac{1}{\\sqrt{2}}\\left[ \\alpha \\left( |000\\rangle + |011\\rangle \\right) + \\beta \\left( |110\\rangle + |101\\rangle \\right)\\right]$$\n",
    "\n",
    "Finally the first qubit is sent in a superposition state with a Hadamard gate, resulting in $|\\psi_2\\rangle$:\n",
    "$$ |\\psi_2\\rangle = \\frac{1}{\\sqrt{2}}\\left[ \\alpha \\left( \\frac{|0\\rangle + |1\\rangle}{\\sqrt{2}} \\right) \\left( |00\\rangle + |11\\rangle \\right) + \\beta \\left( \\frac{|0\\rangle - |1\\rangle}{\\sqrt{2}} \\right) \\left( |10\\rangle + |01\\rangle \\right)\\right]$$\n",
    "$$ \\psi_2 = \\frac{1}{2} \\left[ \n",
    "            \\alpha \\left( |000\\rangle + |100\\rangle + |011\\rangle + |111\\rangle \\right) \n",
    "          + \\beta  \\left( |010\\rangle - |110\\rangle + |001\\rangle - |101\\rangle \\right) \\right] $$\n",
    "\n",
    "Now let's just rewrite $|\\psi_2\\rangle$ by separating the two qubits at $A$ from the qubit at $B$:\n",
    "$$ \\psi_2 = \\frac{1}{2} \\left[ \n",
    "            |00\\rangle (\\alpha|0\\rangle + \\beta|1\\rangle)\n",
    "          + |01\\rangle (\\alpha|1\\rangle + \\beta|0\\rangle)\n",
    "          + |10\\rangle (\\alpha|0\\rangle - \\beta|1\\rangle)\n",
    "          + |11\\rangle (\\alpha|1\\rangle - \\beta|0\\rangle)\n",
    "          \\right] $$\n",
    "\n",
    "If a measurement is performed on the two qubits at $A$, then this will seal the fate of the third qubit at $B$. For instance, if we measure the first two qubits to be in the $|00\\rangle$ (which has a probability of $0.25$), then the post-measurement state will be that the third qubit at $B$ will end up as $\\alpha|0\\rangle + \\beta|1\\rangle$, which is the quantum state we wanted to teleport. Operation successful!\n",
    "\n",
    "If the measurement on the two qubits at $A$ yields another state, then we apply a few well chosen gates to retrieve the quantum state $|\\psi\\rangle$. So, depending on the measurements at $A$, we have:\n",
    "\\begin{array}\n",
    "~00 \\mapsto |\\psi_3\\rangle \\equiv \\left[ \\alpha|0\\rangle + \\beta|1\\rangle \\right] \\\\\n",
    " 01 \\mapsto |\\psi_3\\rangle \\equiv \\left[ \\alpha|1\\rangle + \\beta|0\\rangle \\right] \\\\\n",
    " 10 \\mapsto |\\psi_3\\rangle \\equiv \\left[ \\alpha|0\\rangle - \\beta|1\\rangle \\right] \\\\\n",
    " 11 \\mapsto |\\psi_3\\rangle \\equiv \\left[ \\alpha|1\\rangle - \\beta|0\\rangle \\right]\n",
    "\\end{array}\n",
    "\n",
    "Of course, to know which state the qubit at $B$ is in, we must know the result of the measurements at $A$, which has to operate through classical channels, therefore preventing teleportation from being used to transmit information faster than light. The circuit used for quantum teleportation is:\n",
    "\n",
    "<img src=\"img/quantum_teleportation_circuit.jpg\" width=\"600\"/>"
   ]
  },
  {
   "cell_type": "markdown",
   "metadata": {},
   "source": [
    "### 1.4. Quantum algorithms\n",
    "#### 1.4.1 Classical computations on a quantum computer\n",
    "Any classical circuit can be replaced by an equivalent circuit containing only reversible elements, by making use of a reversible gate known as the Toffoli gate:\n",
    "<img src=\"img/toffoli_gate.jpg\" width=\"400\"/>\n",
    "\n",
    "The Toffoli gate can be used to simulate `NAND` gates, that is, output is $0$ only when both inputs are $1$. It can be realized with a Toffoli gate and $c=1$. Additionally, the Toffoli gate with $a=1$ and $c=0$ can achieve `FANOUT`. With these two operations it becomes possible to simulate all other elements in a classical circuit. The Toffoli gate therefore ensures that quantum computers are capable of performing any computation which a classical (deterministic) computer may do.\n",
    "\n",
    "For non deterministic calculations, that is, a random generation of bits for instance, we can use the Hadamard gate to put the qubit in a superposition state, resulting in a $50/50$ probability of measuring $|0\\rangle$ or $|1\\rangle$.\n",
    "\n",
    "Of course, the real advantage of quantum computers is the ability to solve several problems than any classical algorithm."
   ]
  },
  {
   "cell_type": "markdown",
   "metadata": {},
   "source": [
    "#### 1.4.2. Quantum parallelism\n",
    "Quantum parallelism is a fundamental feature of many quantum algorithms. It allows quantum computers to evaluate a function $f(x)$ for many different values of $x$ simultaneously.\n",
    "\n",
    "Suppose $f(x):\\{0,1\\}\\mapsto\\{0,1\\}$ and a two-qubit quantum computer that starts in the state $|x,y\\rangle$. W.ith an appropriate sequence of logic gates, it is possible to transform this state into $|x,y\\oplus f(x)\\rangle$. If $y=0$ then the final state of the second qubit is just the value $f(x)$. In order to be able to determine simultaneously the values $f(0)$ and $f(1)$, it is necessary to have the first qubit go through a Hadamard gate, so that the system becomes (with $y=0$):\n",
    "$$ \\frac{|0,f(0)\\rangle + |1,f(1)\\rangle}{\\sqrt{2}}$$\n",
    "\n",
    "This is a remarkable state, as it contains information about both $f(0)$ and $f(1)$! Unlike classical computers, where multiple circuits each built to compute $f(x)$ are executed simultaneously, here a single $f(x)$ circuit is employed to evaluate the function for multiple values of $x$ simultaneously.\n",
    "\n",
    "The quantum circuit for evaluating $f(0)$ and $f(1)$ simultaneously is shown below:\n",
    "<img src=\"img/two_bit_parallelism.jpg\" width=\"300\"/>\n",
    "\n",
    "This procedure can be generalized to functions on an arbitrary number of bits, by using an operation known as the Hadamard transform, or sometimes the Walsh-Hadamard transform. This operation is just $n$ Hadamard gates acting in parallel on $n$ qubits. For example, with $n=2$ with qubits initially set to zero, the Hadamard transform gives as output:\n",
    "$$ H^{\\otimes 2} = \\frac{|00\\rangle + |01\\rangle + |10\\rangle + |11\\rangle}{2} $$\n",
    "\n",
    "We write $H^{\\otimes 2}$ to denote parallel action of two Hadamard gates, and read '$\\otimes$' as 'tensor'. More generally, the result of performing the Hadamard transform on $n$ qubits initially in the $|0\\rangle$ state is:\n",
    "$$ \\frac{1}{\\sqrt{2}} \\sum\\limits_{x} |x\\rangle$$\n",
    "\n",
    "where the sum runs over all possible values of $x$ (in the two-qubit case: $x=\\{|00\\rangle, |01\\rangle, |10\\rangle, |11\\rangle\\}$) and we write $H^{\\otimes n}$ to denote this action. It produces an equal superposition of all $2^n$ computational basis states with just $n$ gates.\n",
    "\n",
    "Quantum parallel evaluation of a function with $n$-bit input $x$ and $1$-bit output, $f(x)$, can be performed by first preparing the $n+1$-qubit state $|0\\rangle^{\\otimes n}|0\\rangle$, then by applying the Hadamard transform to the first $n$ qubits, followed by the quantum circuit implementing $U_f$. This produces the state:\n",
    "$$ \\frac{1}{\\sqrt{2^n}} \\sum\\limits_{x} |x,f(x)\\rangle $$\n",
    "\n",
    "What we just need now is the ability to extract information about more than one value of $f(x)$ from superposition states like $\\sum_{x} |x,f(x)\\rangle$."
   ]
  },
  {
   "cell_type": "markdown",
   "metadata": {},
   "source": [
    "#### 1.4.3. Deutsch's algorithm\n"
   ]
  },
  {
   "cell_type": "code",
   "execution_count": null,
   "metadata": {},
   "outputs": [],
   "source": []
  },
  {
   "cell_type": "code",
   "execution_count": null,
   "metadata": {},
   "outputs": [],
   "source": []
  },
  {
   "cell_type": "code",
   "execution_count": null,
   "metadata": {},
   "outputs": [],
   "source": []
  },
  {
   "cell_type": "code",
   "execution_count": null,
   "metadata": {},
   "outputs": [],
   "source": []
  },
  {
   "cell_type": "code",
   "execution_count": null,
   "metadata": {},
   "outputs": [],
   "source": []
  },
  {
   "cell_type": "code",
   "execution_count": null,
   "metadata": {},
   "outputs": [],
   "source": []
  },
  {
   "cell_type": "code",
   "execution_count": null,
   "metadata": {},
   "outputs": [],
   "source": []
  },
  {
   "cell_type": "code",
   "execution_count": null,
   "metadata": {},
   "outputs": [],
   "source": []
  },
  {
   "cell_type": "code",
   "execution_count": null,
   "metadata": {},
   "outputs": [],
   "source": []
  },
  {
   "cell_type": "code",
   "execution_count": null,
   "metadata": {},
   "outputs": [],
   "source": []
  },
  {
   "cell_type": "code",
   "execution_count": null,
   "metadata": {},
   "outputs": [],
   "source": []
  },
  {
   "cell_type": "code",
   "execution_count": null,
   "metadata": {},
   "outputs": [],
   "source": []
  },
  {
   "cell_type": "code",
   "execution_count": null,
   "metadata": {},
   "outputs": [],
   "source": []
  },
  {
   "cell_type": "code",
   "execution_count": null,
   "metadata": {},
   "outputs": [],
   "source": []
  },
  {
   "cell_type": "code",
   "execution_count": null,
   "metadata": {},
   "outputs": [],
   "source": []
  },
  {
   "cell_type": "code",
   "execution_count": null,
   "metadata": {},
   "outputs": [],
   "source": []
  },
  {
   "cell_type": "code",
   "execution_count": null,
   "metadata": {},
   "outputs": [],
   "source": []
  },
  {
   "cell_type": "code",
   "execution_count": null,
   "metadata": {},
   "outputs": [],
   "source": []
  },
  {
   "cell_type": "code",
   "execution_count": null,
   "metadata": {},
   "outputs": [],
   "source": []
  },
  {
   "cell_type": "code",
   "execution_count": 25,
   "metadata": {},
   "outputs": [
    {
     "ename": "NameError",
     "evalue": "name 'q' is not defined",
     "output_type": "error",
     "traceback": [
      "\u001b[0;31m---------------------------------------------------------------------------\u001b[0m",
      "\u001b[0;31mNameError\u001b[0m                                 Traceback (most recent call last)",
      "\u001b[0;32m<ipython-input-25-e1e45a2a21a4>\u001b[0m in \u001b[0;36m<module>\u001b[0;34m\u001b[0m\n\u001b[1;32m      7\u001b[0m \u001b[0;34m\u001b[0m\u001b[0m\n\u001b[1;32m      8\u001b[0m \u001b[0;31m# Add a H gate on qubit 0, putting this qubit in superposition.\u001b[0m\u001b[0;34m\u001b[0m\u001b[0;34m\u001b[0m\u001b[0;34m\u001b[0m\u001b[0m\n\u001b[0;32m----> 9\u001b[0;31m \u001b[0mcirc\u001b[0m\u001b[0;34m.\u001b[0m\u001b[0mh\u001b[0m\u001b[0;34m(\u001b[0m\u001b[0mq\u001b[0m\u001b[0;34m[\u001b[0m\u001b[0;36m1\u001b[0m\u001b[0;34m]\u001b[0m\u001b[0;34m)\u001b[0m\u001b[0;34m\u001b[0m\u001b[0;34m\u001b[0m\u001b[0m\n\u001b[0m\u001b[1;32m     10\u001b[0m \u001b[0mcirc\u001b[0m\u001b[0;34m.\u001b[0m\u001b[0mh\u001b[0m\u001b[0;34m(\u001b[0m\u001b[0mq\u001b[0m\u001b[0;34m[\u001b[0m\u001b[0;36m0\u001b[0m\u001b[0;34m]\u001b[0m\u001b[0;34m)\u001b[0m\u001b[0;34m\u001b[0m\u001b[0;34m\u001b[0m\u001b[0m\n\u001b[1;32m     11\u001b[0m \u001b[0;34m\u001b[0m\u001b[0m\n",
      "\u001b[0;31mNameError\u001b[0m: name 'q' is not defined"
     ]
    }
   ],
   "source": [
    "from qiskit import *\n",
    "from qiskit import BasicAer\n",
    "from qiskit.visualization import plot_state_city\n",
    "\n",
    "# Create a Quantum Circuit acting on the q register\n",
    "circ = QuantumCircuit(3,3)\n",
    "\n",
    "# Add a H gate on qubit 0, putting this qubit in superposition.\n",
    "circ.h(q[1])\n",
    "circ.h(q[0])\n",
    "\n",
    "# Add a CX (CNOT) gate on control qubit 1 and target qubit 2, putting the two qubits in a Bell state.\n",
    "circ.cx(q[1], q[2])\n",
    "\n",
    "# Add a CNOT gate on control qubit 1 an target qubit 0\n",
    "circ.cx(q[1], q[0])\n",
    "\n",
    "# Add H to qubit 0\n",
    "circ.h(q[0])\n",
    "\n",
    "# Measure qubit 0 and 1\n",
    "circ.measure([0,1,2],[0,1,2])\n",
    "\n",
    "# Visualize circuit\n",
    "circ.draw()"
   ]
  },
  {
   "cell_type": "code",
   "execution_count": 49,
   "metadata": {},
   "outputs": [
    {
     "name": "stdout",
     "output_type": "stream",
     "text": [
      "{'110': 1012, '000': 1036}\n"
     ]
    }
   ],
   "source": [
    "# Run the quantum circuit on a statevector simulator backend\n",
    "backend_sim = BasicAer.get_backend('qasm_simulator')\n",
    "\n",
    "# Create a Quantum Program for execution \n",
    "job_sim = execute(circ, backend_sim, shots=2048)\n",
    "\n",
    "result_sim = job_sim.result()\n",
    "counts = result_sim.get_counts(circ)\n",
    "print(counts)"
   ]
  },
  {
   "cell_type": "code",
   "execution_count": 50,
   "metadata": {},
   "outputs": [
    {
     "data": {
      "image/png": "[encoded data removed]",
      "text/plain": [
       "<Figure size 504x360 with 1 Axes>"
      ]
     },
     "execution_count": 50,
     "metadata": {},
     "output_type": "execute_result"
    }
   ],
   "source": [
    "from qiskit.visualization import plot_histogram\n",
    "plot_histogram(counts)"
   ]
  },
  {
   "cell_type": "code",
   "execution_count": null,
   "metadata": {},
   "outputs": [],
   "source": []
  },
  {
   "cell_type": "code",
   "execution_count": null,
   "metadata": {},
   "outputs": [],
   "source": []
  },
  {
   "cell_type": "code",
   "execution_count": null,
   "metadata": {},
   "outputs": [],
   "source": []
  },
  {
   "cell_type": "code",
   "execution_count": null,
   "metadata": {},
   "outputs": [],
   "source": []
  },
  {
   "cell_type": "code",
   "execution_count": null,
   "metadata": {},
   "outputs": [],
   "source": []
  }
 ],
 "metadata": {
  "kernelspec": {
   "display_name": "Python 3",
   "language": "python",
   "name": "python3"
  },
  "language_info": {
   "codemirror_mode": {
    "name": "ipython",
    "version": 3
   },
   "file_extension": ".py",
   "mimetype": "text/x-python",
   "name": "python",
   "nbconvert_exporter": "python",
   "pygments_lexer": "ipython3",
   "version": "3.7.3"
  }
 },
 "nbformat": 4,
 "nbformat_minor": 2
}
