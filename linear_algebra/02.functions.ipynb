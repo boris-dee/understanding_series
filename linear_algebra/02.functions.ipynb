{
 "cells": [
  {
   "cell_type": "markdown",
   "metadata": {},
   "source": [
    "# Functions\n",
    "\n",
    "You might remember functions from your high school courses. What you saw at this time was actually a very very tiny fraction of the actual world of functions. Indeed, when we say *functions*, the first thing that comes to mind is the $f(x)=\\ldots$ notation, where $x$ (the argument) and $f(x)$ (the value) are both real numbers. Therefore, in high school, a function was a **mathematical relation** between a **real number** ($x$) and another **real number** ($f(x)$), hence the notation $f:\\mathbb{R}\\rightarrow\\mathbb{R}$.\n",
    "\n",
    "Example : $f(x)=x^2$. For $x=0.5$, we have $f(x)=0.25$.\n",
    "\n",
    "Here, we are going to expand this paradigm. That is, we are not going to make the assumption that $x$ and $f(x)$ are real numbers. From now on, $x$ and $f(x)$ can be real numbers, vectors, potatoes, soccer balls, whatever. They will just be **elements** from **sets**."
   ]
  },
  {
   "cell_type": "markdown",
   "metadata": {},
   "source": [
    "## 0. Prerequisites to this Serie\n",
    "- [Prerequisites to Linear Algebra](https://github.com/boris-dee/understanding_series/blob/master/linear_algebra/01.prerequisites.ipynb)"
   ]
  },
  {
   "cell_type": "markdown",
   "metadata": {},
   "source": [
    "## 1. Function\n",
    "\n",
    "> **A function from one set $E$ to another set $F$ is a mathematical relation from $E$ to $F$ such that each argument $x$ in $E$ has an image $f(x)$ in $F$**.\n",
    "\n",
    "When dealing with functions and sets, it is useful to make potato diagrams (that's a word I just invented) like below:\n",
    "\n",
    "<img src='img/02.01.application.jpg' width='500'/>\n",
    "\n",
    "Remarks:\n",
    "- All arguments in $E$ must have a unique image in $F$. If an argument in $E$ doesn't have an image, or if it has two or more images, then $f$ is not a function.\n",
    "- Multiple arguments in $E$ can have the same image in $F$. This is the case in the potato diagram above.\n",
    "- Multiple images in $F$ can have no corresponding argument. In other words, some images in $F$ can be alone in their potato, without any arrow linking them to any argument in $E$. This is also the case in the potato diagram above.\n",
    "- The set that contains all existing functions from a set $E$ to another set $F$ is written as $\\mathcal{F}(E,F)$. For instance, the set that contains all possible real-valued functions, as seen in high school, is written as $\\mathcal{F}(\\mathbb{R},\\mathbb{R})$."
   ]
  },
  {
   "cell_type": "markdown",
   "metadata": {},
   "source": [
    "## 2. Injection\n",
    "\n",
    "> **A function $f$ from $E$ to $F$ is an injection if and only if two distinct arguments in $E$ have two distinct images in $F$.** \n",
    ">\n",
    "> **Mathematically: $\\forall (x,x')\\in E^2, x\\neq x' \\Rightarrow f(x)\\neq f(x')$**.\n",
    "\n",
    "The above mathematical sentence reads \"for all $x$ and $x'$ in set $E$, if $x$ and $x'$ are distinct then their images are also distinct\". Therefore, the left-hand side of the arrow is an hypothesis (\"**if** $x$ and $x'$ are distinct\") and the right-hand side is a consequence of this hypothesis (\"**then** their images are also distinct\").\n",
    "\n",
    "This is the property of an injection. For instance, in the potato diagram above, $f$ is **not** an injection because there are two distinct arguments in $E$ that point towards the same image in $F$.\n",
    "\n",
    "On the potato diagram below, however, $f$ is an injection: for every distinct pair of arguments, we have a distinct pair of images.\n",
    "\n",
    "<img src='img/02.02.injection.jpg' width='500'/>\n",
    "\n",
    "Note that it's OK to still have images in $F$ that have no arguments in $E$.\n",
    "\n",
    "> **How to show that a function is an injection?**\n",
    ">\n",
    "> Instead of using the definition above, we are going to use its **contraposition**. The contraposition of $A\\Rightarrow B$ is $\\bar{B}\\Rightarrow\\bar{A}$, where $\\bar{A}$ and $\\bar{B}$ are the negations of $A$ and $B$, respectively.\n",
    ">\n",
    "> For example, the contraposition of \"I live in Paris $\\Rightarrow$ I live in France\" is \"I don't live in France $\\Rightarrow$ I don't live in Paris\".\n",
    ">\n",
    "> Therefore the contraposition of the definition above is $\\forall (x,x')\\in E^2, f(x)= f(x') \\Rightarrow x=x'$. It reads \"if two images are equal, then their corresponding arguments are necessarily equal\".\n",
    ">\n",
    "> So in order to show whether $f$ is an injection, we first make the hypothesis that for all $(x,x')\\in E^2, f(x)=f(x')$ and we show that it leads to $x=x'$.\n",
    "\n",
    "Example : Let's take the function $f(x)=2x+3$, with $x\\in\\mathbb{R}$. Is it an injection?\n",
    "\n",
    "As mentioned above, we start with the hypothesis that $\\forall (x,x')\\in\\mathbb{R}^2, f(x)=f(x')$ and we show whether it leads to $x=x'$:\n",
    "\n",
    "$$\\forall(x,x')\\in\\mathbb{R}^2, f(x)=f(x') \\Rightarrow 2x+3=2x'+3 \\Rightarrow 2x=2x' \\Rightarrow x=x'$$\n",
    "\n",
    "Therefore, $f$ is an injection."
   ]
  },
  {
   "cell_type": "markdown",
   "metadata": {},
   "source": [
    "---\n",
    "**Your turn:** Let $f$ be a function such that $f:\\mathbb{R}\\backslash\\{1\\}\\rightarrow \\mathbb{R}, x\\mapsto\\dfrac{2x+3}{x-1}$. \n",
    "\n",
    "$\\mathbb{R}\\backslash\\{1\\}$ means that we remove the number $1$ from $\\mathbb{R}$ because $f$ is not defined for this argument (don't forget that kittens die in a horrible death when you divide by zero).\n",
    "\n",
    "Is $f$ an injection?\n",
    "\n",
    "\n",
    "**Answer:** \n",
    "\n",
    "$\\forall(x,x')\\in\\left(\\mathbb{R}\\backslash\\{1\\}\\right)^2$:\n",
    "$$f(x)=f(x')$$ \n",
    "\n",
    "$$\\dfrac{2x+3}{x-1} = \\dfrac{2x'+3}{x'-1}$$\n",
    "\n",
    "$$(2x+3)(x'-1)=(2x'+3)(x-1)$$\n",
    "\n",
    "$$2xx'-2x+3x'-3 = 2xx'-2x'+3x-3$$\n",
    "\n",
    "$$3x'+2x'=3x+2x$$\n",
    "\n",
    "$$5x'=5x$$\n",
    "\n",
    "$$x'=x$$\n",
    "\n",
    "Therefore, $f$ is an injection."
   ]
  },
  {
   "cell_type": "markdown",
   "metadata": {},
   "source": [
    "## 3. Surjection\n",
    "\n",
    "> **A function $f$ from $E$ to $F$ is a surjection if and only if each image in $F$ has an argument in $E$**.\n",
    ">\n",
    "> **Mathematically: $\\forall y\\in F, \\exists x\\in E, f(x)=y$**.\n",
    "\n",
    "The above mathematical sentence reads \"for every image $y$ in $F$, there exits an argument $x$ in $E$ so that, when we apply $f$ to $x$, we *land* on $y$\". In other words, if $f$ is a surjection, there can be no element in $F$ that is alone in its potato, without any arrow pointing to it. On the two potato diagrams above, $f$ is not a surjection because there are images in $F$ that have no arrows pointing to them.\n",
    "\n",
    "On the potato diagram below, however, $f$ is a surjection (but it's not an injection).\n",
    "\n",
    "<img src='img/02.03.surjection.jpg' width='500'/>\n",
    "\n",
    "> **How to show that a function is a surjection?**\n",
    ">\n",
    "> The principle is that we start from any image $y=f(x)$ in $F$ and we show that it's possible to \"invert\" the equation and write it in the form of $x=f(something)$. If we manage to do that, it means that for all image $y$ in $F$, there exists an argument $x$ that, when we apply a certain function $f$, yields $y$. This is the definition of a surjection.\n",
    "\n",
    "Example : Let's take the function $f(x)=2x+3$, with $x\\in\\mathbb{R}$. Is it a surjection?\n",
    "\n",
    "As mentioned above, we start from $y=f(x)$ and we try to invert the equation. $\\forall y\\in\\mathbb{R}$ :\n",
    "\n",
    "$$y=f(x) \\Leftrightarrow y=2x+3 \\Leftrightarrow 2x=y-3 \\Leftrightarrow x=\\dfrac{y-3}{2}$$\n",
    "\n",
    "Therefore, $f$ is a surjection."
   ]
  },
  {
   "cell_type": "markdown",
   "metadata": {},
   "source": [
    "---\n",
    "**Your turn:** Let $f$ be a function such that $f:\\mathbb{R}\\backslash\\{1\\}\\rightarrow \\mathbb{R}, x\\mapsto\\dfrac{2x+3}{x-1}$. Is $f$ a surjection?\n",
    "\n",
    "\n",
    "**Answer:** \n",
    "\n",
    "$\\forall y\\in F:$\n",
    "\n",
    "$$ y=f(x) $$\n",
    "\n",
    "$$ y=\\dfrac{2x+3}{x-1} $$\n",
    "\n",
    "$$ y(x-1)=2x+3 $$\n",
    "\n",
    "$$ yx-y=2x+3 $$\n",
    "\n",
    "$$ yx-2x=3+y $$\n",
    "\n",
    "$$ x(y-2)=3+y$$\n",
    "\n",
    "And now we need to stop because we cannot divide by $y-2$ unless $y\\neq 2$ (mind the kittens!). Therefore, we cannot isolate $x$ unless $y\\neq 2$, which is not consistent with the fact that it needs to work for every $y\\in F$.\n",
    "\n",
    "Therefore, $f$ is not a surjection."
   ]
  },
  {
   "cell_type": "markdown",
   "metadata": {},
   "source": [
    "## 4. Bijection\n",
    "\n",
    "> **A function $f$ from $E$ to $F$ is a bijection if and only if it is both an injection and a surjection, that is, if and only if each image in $F$ has a unique argument in $E$**.\n",
    ">\n",
    "> **Mathematically: $\\forall y\\in F, \\exists! x\\in E, f(x)=y$**.\n",
    "\n",
    "The above mathematical sentence reads \"for every image $y$ in $F$, there exits a **unique** argument $x$ in $E$ so that, when we apply $f$ to $x$, we *land* on $y$\".\n",
    "\n",
    "On the potato diagram above, $f$ is a bijection. There is a **one-to-one correspondance** between arguments in $E$ and images in $F$.\n",
    "\n",
    "<img src='img/02.04.bijection.jpg' width='500'/>\n",
    "\n",
    "> **How to show that a function is a bijection?**\n",
    ">\n",
    "> Usually, we show that it's an injection and a surjection."
   ]
  },
  {
   "cell_type": "markdown",
   "metadata": {},
   "source": [
    "## 5. Inverse bijection\n",
    "\n"
   ]
  }
 ],
 "metadata": {
  "kernelspec": {
   "display_name": "Python 3",
   "language": "python",
   "name": "python3"
  },
  "language_info": {
   "codemirror_mode": {
    "name": "ipython",
    "version": 3
   },
   "file_extension": ".py",
   "mimetype": "text/x-python",
   "name": "python",
   "nbconvert_exporter": "python",
   "pygments_lexer": "ipython3",
   "version": "3.6.8"
  }
 },
 "nbformat": 4,
 "nbformat_minor": 2
}
