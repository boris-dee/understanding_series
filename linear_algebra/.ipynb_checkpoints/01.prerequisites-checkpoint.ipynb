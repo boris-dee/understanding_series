{
 "cells": [
  {
   "cell_type": "markdown",
   "metadata": {},
   "source": [
    "# Prerequisites to Linear Algebra\n",
    "\n",
    "Below are some prerequisites that will be useful to understand the linear algebra topics that will follow. It's nothing fancy, mainly some elements of vocabulary.\n",
    "\n",
    "## 1. Ensembles\n",
    "> **Intuitively, an ensemble is a collection of objects, which are the elements of this ensemble.**\n",
    "\n",
    "Notations:\n",
    "- When $a$ is an element and $E$ an ensemble:\n",
    "    - The assertion $a\\in E$ reads \"$a$ is in $E$\". It is true if $a$ is an element of $E$, and false otherwise.\n",
    "    - If $a$ is not an element of $E$, we write $a\\notin E$.\n",
    "- The notion of ensemble and element is relative, since an ensemble can itself be an element of another ensemble.\n",
    "- By convention, ensembles and elements are written with uppercase and lowercase letters, respectively."
   ]
  },
  {
   "cell_type": "markdown",
   "metadata": {},
   "source": [
    "## 2. Quantifiers\n",
    "> **Quantifiers are expressions or phrases that indicate the number of elements that a statement pertains to.**\n",
    "\n",
    "Let $A(x)$ be a mathematical sentence that involves the variable $x$ and that is defined on the ensemble $E$.\n",
    "\n",
    "We can construct :\n",
    "- The assertion: $\\forall x\\in E \\quad A(x)$. It reads \"for all $x$ in $E$, we have $A(x)$\". It is true for every single element $x$ in the ensemble $E$. \n",
    "\n",
    "    The symbol $\\forall$ is called the **universal quantifier**.\n",
    "    \n",
    "    \n",
    "- The assertion: $\\exists x\\in E \\quad A(x)$. It reads \"there exists $x$ in $E$ for which we have $A(x)$\". It is true when it exists **at least** one element $x$ in the ensemble $E$ for which the assertion holds. \n",
    "\n",
    "    If there is one and only one element $x$, we write $\\exists! x\\in E \\quad A(x)$, which reads \"there exists a unique $x$ in $E$ for which we have $A(x)$\".\n",
    "    \n",
    "    The symbol $\\exists$ is called the **existential quantifier**."
   ]
  },
  {
   "cell_type": "markdown",
   "metadata": {},
   "source": [
    "Examples:\n",
    "1. The assertion $\\forall x\\in\\mathbb{R} \\quad x^2+1\\geq 0$ reads \"for all real number $x$, we have $x^2+1\\geq 0$\".\n",
    "\n",
    "    This assertion is **true** since $x^2+1$ is always strictly positive, irrespective of the value of $x$.    \n",
    "   \n",
    "2. The assertion $\\forall x\\in\\mathbb{R} \\quad x^2-1\\geq 0$ reads \"for all real number $x$, we have $x^2-1\\geq 0$\".\n",
    "\n",
    "    This assertion is **false** since for $x=\\dfrac{1}{2}$, we have $x^2-1 = \\dfrac{1}{4}-1 = -\\dfrac{3}{4}\\leq 0$.\n",
    "    \n",
    "3. The assertion $\\exists x\\in\\mathbb{R} \\quad x^2-1\\geq 0$ reads \"there exists a real number $x$ for which we have $x^2-1\\geq 0$\".\n",
    "\n",
    "    This assertion is **true** since we can find plenty of different real values for $x$ for which we have $x^2-1\\geq 0$. For instance $x=2$."
   ]
  },
  {
   "cell_type": "markdown",
   "metadata": {},
   "source": [
    "> Your turn: \n",
    ">\n",
    "> What do you think of the following assertions?\n",
    "> 1. $\\exists x\\in\\mathbb{R} \\quad x^2+1=0$.\n",
    ">\n",
    "> 2. $\\exists x\\in\\mathbb{C} \\quad x^2+1=0$.\n",
    "\n",
    "> Answers:\n",
    "> 1. This assertion is **false**. \n",
    "> \n",
    ">  Indeed, if you remember your (maybe old) maths lessons, this equation does not have any real solution. \n",
    ">\n",
    ">  There does not exist **any** real value for which we have $x^2+1=0$.\n",
    ">\n",
    "> 2. This assertion is **true**.\n",
    ">  While the equation does not have any real solution, it does have two complex solutions (which are $i$ and $-i$)."
   ]
  }
 ],
 "metadata": {
  "kernelspec": {
   "display_name": "Python 3",
   "language": "python",
   "name": "python3"
  },
  "language_info": {
   "codemirror_mode": {
    "name": "ipython",
    "version": 3
   },
   "file_extension": ".py",
   "mimetype": "text/x-python",
   "name": "python",
   "nbconvert_exporter": "python",
   "pygments_lexer": "ipython3",
   "version": "3.6.8"
  }
 },
 "nbformat": 4,
 "nbformat_minor": 2
}
