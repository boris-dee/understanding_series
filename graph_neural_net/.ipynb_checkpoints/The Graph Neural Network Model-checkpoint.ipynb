{
 "cells": [
  {
   "cell_type": "markdown",
   "metadata": {},
   "source": [
    "# Introduction\n",
    "We want to learn a function $\\tau$ that maps a graph $\\mathbf{G}$ and one of its node $n$ to a vector of reals:\n",
    "\n",
    "\\begin{equation}\n",
    " \\tau: (\\mathbf{G},n) \\mapsto \\mathbb{R}^m\n",
    "\\end{equation}\n",
    "\n",
    "There are two broad applications of GNN. They can be classified as _graph-focused_ and _node-focused_. In graph-focused applications, $\\tau$ is independent of $n$ so that $\\tau: \\mathbf{G} \\mapsto \\mathbb{R}^m$. In node-focused application, $\\tau$ depends on the properties of each node $n$. GNNs are suitable for both graph- and node-focused applications.\n",
    "\n",
    "GNNs are based on an information diffusion mechanism. A graph is processed by a set of units, each one corresponding to a node of the graph, which are linked according to the graph connectivity. The units update their states and exchange information until they reach a stable equilibrium. The output of a GNN is then computed locally at each node on the base of the unit state. The diffusion mechanism is constrained in order to ensure that a unique stable equilibrium always exists."
   ]
  },
  {
   "cell_type": "markdown",
   "metadata": {},
   "source": [
    "# Notations\n",
    "$\\mathbf{G}$ is a graph.It is a pair $(\\mathbf{N},\\mathbf{E})$, where $\\mathbf{N}$ is the set of nodes and $\\mathbf{E}$ is the set of edges. The set ${\\rm ne}[n]$ stands for the neighbors of $n$ and the set ${\\rm co}[n]$ stands for the edges that connect to $n$.\n",
    "\n",
    "Nodes and edges may have labels represented by real vectors. The labels attached to node $n$ and edge $(n_1,n_2)$ will be represented by $\\mathbf{l}_n$ and $\\mathbf{l}_{(n_1,n_2)}$, respectively. Labels usually include features of objects related to nodes and features of the relationships between the objects.\n",
    "\n",
    "Each graph $\\mathbf{G}_i$ has a set of nodes $\\mathbf{N}_i$ and a set of edges $\\mathbf{E}_i$. The $j^{\\rm th}$ node in the set $\\mathbf{N}_i$ is referred to as $n_{ij}$ and the desired node-level target associated to $n_{ij}$ is referred to as $\\mathbf{t}_{ij}$."
   ]
  },
  {
   "cell_type": "markdown",
   "metadata": {},
   "source": [
    "# Exemple\n",
    "![Exemple of graphs](graphs.jpg)"
   ]
  },
  {
   "cell_type": "markdown",
   "metadata": {},
   "source": [
    "$\\mathbf{G}_1$ has four nodes and three edges so that \n",
    "\n",
    "- $\\mathbf{N}_1$ is the set of nodes: $\\left\\{ n_{1,1} ; n_{1,2} ; n_{1,3} ; n_{1,4} \\right\\}$\n",
    "\n",
    "\n",
    "- $\\mathbf{E}_1$ is the set of edges: $\\left\\{ (n_{1,1},n_{1,2}) ; (n_{1,2},n_{1,3}) ; (n_{1,3},n_{1,4})\\right\\}$\n",
    "\n",
    "\n",
    "- Each node has a target $\\mathbf{t}\\in\\mathbb{R}^m$: $\\left\\{ \\mathbf{t}_{1,1} ; \\mathbf{t}_{1,2} ; \\mathbf{t}_{1,3} ; \\mathbf{t}_{1,4} \\right\\}$\n",
    "\n",
    "\n",
    "$\\mathbf{G}_2$ has five nodes and five edges so that \n",
    "\n",
    "- $\\mathbf{N}_2 = \\left\\{ n_{2,1} ; n_{2,2} ; n_{2,3} ; n_{2,4} ; n_{2,5} \\right\\}$\n",
    "\n",
    "\n",
    "- $\\mathbf{E}_2 = \\left\\{ (n_{2,1},n_{2,2}) ; (n_{1,2},n_{1,3}) ; (n_{1,3},n_{1,4})\\right\\}$\n",
    "\n",
    "\n",
    "- Each node has a target $\\mathbf{t}\\in\\mathbb{R}^m$: $\\left\\{ \\mathbf{t}_{1,1} ; \\mathbf{t}_{1,2} ; \\mathbf{t}_{1,3} ; \\mathbf{t}_{1,4} \\right\\}$"
   ]
  },
  {
   "cell_type": "code",
   "execution_count": null,
   "metadata": {},
   "outputs": [],
   "source": []
  }
 ],
 "metadata": {
  "kernelspec": {
   "display_name": "Python 3",
   "language": "python",
   "name": "python3"
  },
  "language_info": {
   "codemirror_mode": {
    "name": "ipython",
    "version": 3
   },
   "file_extension": ".py",
   "mimetype": "text/x-python",
   "name": "python",
   "nbconvert_exporter": "python",
   "pygments_lexer": "ipython3",
   "version": "3.7.3"
  }
 },
 "nbformat": 4,
 "nbformat_minor": 2
}
