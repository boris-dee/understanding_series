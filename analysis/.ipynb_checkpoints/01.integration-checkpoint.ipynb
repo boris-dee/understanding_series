{
 "cells": [
  {
   "cell_type": "markdown",
   "metadata": {},
   "source": [
    "# Integration"
   ]
  },
  {
   "cell_type": "markdown",
   "metadata": {},
   "source": [
    "## 0. Prerequisites to this Series\n",
    "- [Prerequisites to Linear Algebra](https://github.com/boris-dee/understanding_series/blob/master/linear_algebra/01.prerequisites.ipynb) (for some of the notations)\n",
    "\n",
    "## 1. What is an integral?\n",
    "> **Let $f$ be a continuous function on some interval $I$. The integral of $f$ on a given interval $[a,b]\\in I$ is defined as the signed area of the region in the $xy$-plane that is bounded by the graph of $f$, the $x$-axis and the vertical lines $x=a$ and $x= b$.**.\n",
    "\n",
    "Graphically, this means:"
   ]
  },
  {
   "cell_type": "code",
   "execution_count": null,
   "metadata": {},
   "outputs": [],
   "source": []
  }
 ],
 "metadata": {
  "kernelspec": {
   "display_name": "Python 3",
   "language": "python",
   "name": "python3"
  },
  "language_info": {
   "codemirror_mode": {
    "name": "ipython",
    "version": 3
   },
   "file_extension": ".py",
   "mimetype": "text/x-python",
   "name": "python",
   "nbconvert_exporter": "python",
   "pygments_lexer": "ipython3",
   "version": "3.6.8"
  }
 },
 "nbformat": 4,
 "nbformat_minor": 2
}
